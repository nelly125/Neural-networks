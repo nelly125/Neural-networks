{
 "cells": [
  {
   "cell_type": "markdown",
   "metadata": {},
   "source": [
    "## Семинар 9: \"LSTM\""
   ]
  },
  {
   "cell_type": "markdown",
   "metadata": {},
   "source": [
    "ФИО: Перфильева Нелли Андреевна"
   ]
  },
  {
   "cell_type": "code",
   "execution_count": 1,
   "metadata": {},
   "outputs": [],
   "source": [
    "import numpy as np\n",
    "from sklearn.model_selection import train_test_split\n",
    "import matplotlib.pyplot as plt\n",
    "from torch import optim\n",
    "import torch\n",
    "from torch import nn\n",
    "import pandas\n",
    "from tqdm import tqdm\n",
    "from torch.autograd import Variable\n",
    "from sklearn.preprocessing import MinMaxScaler\n",
    "from IPython.display import clear_output\n",
    "import sys\n",
    "from torch.utils.data import DataLoader, Dataset, TensorDataset\n",
    "%matplotlib inline"
   ]
  },
  {
   "cell_type": "markdown",
   "metadata": {},
   "source": [
    "Этот семинар посвящен реализации RNN в pyTorch"
   ]
  },
  {
   "cell_type": "markdown",
   "metadata": {},
   "source": [
    "## Задание 1"
   ]
  },
  {
   "cell_type": "markdown",
   "metadata": {},
   "source": [
    "Напишите свою реализацию LSTM."
   ]
  },
  {
   "cell_type": "markdown",
   "metadata": {},
   "source": [
    "<img src=\"https://cdn-images-1.medium.com/max/1600/1*hl9UVtgIcQkDIGD8VFykdw.png\" width=\"640\">"
   ]
  },
  {
   "cell_type": "code",
   "execution_count": 2,
   "metadata": {},
   "outputs": [],
   "source": [
    "class LSTM(nn.Module):\n",
    "    def __init__(self, input_size, hidden_size):\n",
    "        super(LSTM, self).__init__()\n",
    "        self.input_size = input_size\n",
    "        self.hidden_size = hidden_size\n",
    "        self.gate_size = 4 * self.hidden_size\n",
    "        \n",
    "        self.W_i = nn.Parameter(torch.Tensor(input_size, self.gate_size).zero_())\n",
    "        \n",
    "        self.W_h = nn.Parameter(torch.Tensor(hidden_size, self.gate_size).zero_())\n",
    "        \n",
    "        self.b = nn.Parameter(torch.Tensor(self.gate_size).zero_())\n",
    "        \n",
    "        \n",
    "    def forward(self, inputs, hidden):\n",
    "        # inputs: (seq_len, batch_size, input_size)\n",
    "        # hidden: (batch_size, hidden_size) x 2. (no layers)\n",
    "        \n",
    "        h, c = hidden\n",
    "        bs = h.size(0)\n",
    "        \n",
    "        seq_length = inputs.size(0)\n",
    "        out = Variable(torch.Tensor(seq_length, bs, self.hidden_size))\n",
    "        \n",
    "        for i, inp in enumerate(inputs):\n",
    "            S = (torch.matmul(inp, self.W_i) + torch.matmul(h, self.W_h) + self.b)\n",
    "            S = S.view(bs, 4, self.hidden_size)\n",
    "            \n",
    "            i_1 = torch.sigmoid(S[:,0,:])\n",
    "            f_1 = torch.sigmoid(S[:,1,:])\n",
    "            g_1 = torch.tanh(S[:,2,:])\n",
    "            o_1 = torch.sigmoid(S[:,3,:])\n",
    "            \n",
    "            c = f_1 * c + i_1 * g_1\n",
    "            h = o_1 * torch.tanh(c)\n",
    "            out[i] = h\n",
    "        return out, (h, c)"
   ]
  },
  {
   "cell_type": "code",
   "execution_count": 3,
   "metadata": {},
   "outputs": [],
   "source": [
    "def train_network(network, train_loader, epochs, learning_rate, hidden_size, loss, plot=True,\n",
    "          device='cpu', verbose=True):\n",
    "    loss = loss\n",
    "    train_loss_epochs = []\n",
    "    optimizer = torch.optim.Adam(network.parameters(), lr=learning_rate)\n",
    "    # logdir = os.path.join(\"logs\", datetime.datetime.now().strftime(\"%Y%m%d-%H%M%S\"))\n",
    "    # tensorboard_callback = tf.keras.callbacks.TensorBoard(logdir, histogram_freq=1)\n",
    "    try:\n",
    "        for epoch in tqdm(range(epochs)):\n",
    "            losses = []\n",
    "            for X, y in train_loader:\n",
    "                X = X.type(dtype = torch.FloatTensor)\n",
    "                X = X.to(device)\n",
    "                y = y.to(device)\n",
    "                hidden = (torch.zeros(1, 1, network.hidden_size).to(device),\n",
    "                        torch.zeros(1, 1, network.hidden_size).to(device))\n",
    "                prediction, _ = network(X, hidden)\n",
    "                loss_batch = loss(y.to(device), prediction.to(device))\n",
    "                network.zero_grad()\n",
    "                losses.append(loss_batch.cpu().item())\n",
    "                loss_batch.backward()\n",
    "                optimizer.step()\n",
    "            train_loss_epochs.append(np.mean(losses))\n",
    "            clear_output(True)\n",
    "            sys.stdout.write('\\rEpoch {0}... (Train) LOSS: {1:.3f}'.format(\n",
    "                            epoch, train_loss_epochs[-1]))\n",
    "        if plot:\n",
    "            plt.figure(figsize=(12, 5))\n",
    "            plt.subplot(1, 2, 1)\n",
    "            plt.plot(train_loss_epochs, label='Train')\n",
    "            plt.xlabel('Epochs', fontsize=16)\n",
    "            plt.ylabel('Loss', fontsize=16)\n",
    "            plt.legend(loc=0, fontsize=16)\n",
    "            plt.grid('on')\n",
    "            plt.show()\n",
    "    except KeyboardInterrupt:\n",
    "        pass\n",
    "    return train_loss_epochs"
   ]
  },
  {
   "cell_type": "markdown",
   "metadata": {
    "collapsed": true
   },
   "source": [
    "## Задание 2"
   ]
  },
  {
   "cell_type": "markdown",
   "metadata": {},
   "source": [
    "Используя свою реализацию LSTM и torch.nn.LSTM (torch.nn.GRU) решить задачу предсказания временного ряда.\n",
    "Попробуйте разные длины входной и выходной последовательности.\n",
    "С помощью обученной сети получить из train-части временного ряда test-часть."
   ]
  },
  {
   "cell_type": "markdown",
   "metadata": {},
   "source": [
    "Данные о количестве пассажиров\n",
    "https://datamarket.com/data/set/22u3/international-airline-passengers-monthly-totals-in-thousands-jan-49-dec-60#!ds=22u3&display=line"
   ]
  },
  {
   "cell_type": "code",
   "execution_count": 35,
   "metadata": {},
   "outputs": [
    {
     "data": {
      "image/png": "[encoded data removed]",
      "text/plain": [
       "<Figure size 432x288 with 1 Axes>"
      ]
     },
     "metadata": {
      "needs_background": "light"
     },
     "output_type": "display_data"
    }
   ],
   "source": [
    "%matplotlib inline\n",
    "dataset = pandas.read_csv('international-airline-passengers.csv', usecols=[1], delimiter=\";\", engine='python', skipfooter=3)\n",
    "plt.plot(dataset)\n",
    "plt.show()"
   ]
  },
  {
   "cell_type": "code",
   "execution_count": 36,
   "metadata": {},
   "outputs": [],
   "source": [
    "# подготовливаем данные\n",
    "\n",
    "dataset = dataset.values\n",
    "dataset = dataset.astype('float32')\n",
    "scaler = MinMaxScaler(feature_range=(0, 1))\n",
    "dataset = scaler.fit_transform(dataset)"
   ]
  },
  {
   "cell_type": "code",
   "execution_count": 37,
   "metadata": {},
   "outputs": [
    {
     "data": {
      "text/plain": [
       "144"
      ]
     },
     "execution_count": 37,
     "metadata": {},
     "output_type": "execute_result"
    }
   ],
   "source": [
    "len(dataset)"
   ]
  },
  {
   "cell_type": "code",
   "execution_count": 38,
   "metadata": {},
   "outputs": [
    {
     "name": "stdout",
     "output_type": "stream",
     "text": [
      "96 48\n"
     ]
    }
   ],
   "source": [
    "# разбиваем данные на train / test\n",
    "train_size = int(len(dataset) * 0.67)\n",
    "test_size = len(dataset) - train_size\n",
    "train, test = dataset[0:train_size,:], dataset[train_size:len(dataset),:]\n",
    "print(len(train), len(test))\n"
   ]
  },
  {
   "cell_type": "code",
   "execution_count": 39,
   "metadata": {},
   "outputs": [],
   "source": [
    "# Целевая переменная - сдвинутая последовательность значений входов\n",
    "\n",
    "def create_dataset(dataset, look_back=1, look_forward=1):\n",
    "    dataX, dataY = [], []\n",
    "    for i in range(len(dataset)-look_back-1-look_forward):\n",
    "        a = dataset[i:(i+look_back), 0]\n",
    "        dataX.append(a)\n",
    "        dataY.append(dataset[i + look_back : (i + look_back + look_forward), 0])\n",
    "\n",
    "    return np.array(dataX), np.array(dataY)"
   ]
  },
  {
   "cell_type": "code",
   "execution_count": 46,
   "metadata": {},
   "outputs": [],
   "source": [
    "# Пример подготовленных данных\n",
    "\n",
    "look_back = 7\n",
    "look_forward=1\n",
    "trainX, trainY = create_dataset(train, look_back, look_forward)\n",
    "testX, testY = create_dataset(test, look_back, look_forward)\n",
    "\n",
    "trainX = np.reshape(trainX, (trainX.shape[0], 1, trainX.shape[1]))\n",
    "testX = np.reshape(testX, (testX.shape[0], 1, testX.shape[1]))"
   ]
  },
  {
   "cell_type": "code",
   "execution_count": 47,
   "metadata": {},
   "outputs": [
    {
     "data": {
      "text/plain": [
       "96"
      ]
     },
     "execution_count": 47,
     "metadata": {},
     "output_type": "execute_result"
    }
   ],
   "source": [
    "len(train)"
   ]
  },
  {
   "cell_type": "code",
   "execution_count": 48,
   "metadata": {},
   "outputs": [],
   "source": [
    "train_dataset = TensorDataset(torch.from_numpy(trainX), torch.from_numpy(trainY))"
   ]
  },
  {
   "cell_type": "code",
   "execution_count": 49,
   "metadata": {},
   "outputs": [],
   "source": [
    "train_dataloader =  DataLoader(train_dataset, batch_size=5)"
   ]
  },
  {
   "cell_type": "code",
   "execution_count": 50,
   "metadata": {},
   "outputs": [],
   "source": [
    "test_dataset = TensorDataset(torch.from_numpy(testX), torch.from_numpy(testY))\n"
   ]
  },
  {
   "cell_type": "code",
   "execution_count": 51,
   "metadata": {},
   "outputs": [],
   "source": [
    "test_dataloader =  DataLoader(test_dataset, batch_size=5)\n"
   ]
  },
  {
   "cell_type": "code",
   "execution_count": 66,
   "metadata": {},
   "outputs": [
    {
     "name": "stderr",
     "output_type": "stream",
     "text": [
      "100%|██████████| 500/500 [00:26<00:00, 18.53it/s]"
     ]
    },
    {
     "name": "stdout",
     "output_type": "stream",
     "text": [
      "\r",
      "Epoch 499... (Train) LOSS: 0.004"
     ]
    },
    {
     "name": "stderr",
     "output_type": "stream",
     "text": [
      "\n"
     ]
    },
    {
     "data": {
      "image/png": "[encoded data removed]",
      "text/plain": [
       "<Figure size 864x360 with 1 Axes>"
      ]
     },
     "metadata": {
      "needs_background": "light"
     },
     "output_type": "display_data"
    }
   ],
   "source": [
    "my_model =  LSTM(hidden_size=10, input_size=look_back)\n",
    "loss_2 = train_network(my_model, train_dataloader, 500, 0.001, 5, loss=nn.MSELoss())\n"
   ]
  },
  {
   "cell_type": "code",
   "execution_count": 67,
   "metadata": {},
   "outputs": [],
   "source": [
    "def predict(model, hidden_size, device = 'cpu'):\n",
    "    hidden = (torch.zeros(1, 1, model.hidden_size).to(device),\n",
    "              torch.ones(1, 1, model.hidden_size).to(device))\n",
    "    predicted = []\n",
    "    model.to(device)\n",
    "    model.zero_grad()\n",
    "    for X, y in test_dataloader:\n",
    "        X = X.to(device)\n",
    "        y_pred, hidden = model(X, hidden)\n",
    "        predicted += list(y_pred[:, 0, 0])\n",
    "    return predicted\n",
    "        "
   ]
  },
  {
   "cell_type": "code",
   "execution_count": 68,
   "metadata": {},
   "outputs": [
    {
     "data": {
      "text/plain": [
       "[<matplotlib.lines.Line2D at 0x7f2b5e6654f0>]"
      ]
     },
     "execution_count": 68,
     "metadata": {},
     "output_type": "execute_result"
    },
    {
     "data": {
      "image/png": "[encoded data removed]",
      "text/plain": [
       "<Figure size 432x288 with 1 Axes>"
      ]
     },
     "metadata": {
      "needs_background": "light"
     },
     "output_type": "display_data"
    }
   ],
   "source": [
    "y_pred = predict(my_model, look_forward, 'cpu')\n",
    "\n",
    "prediction = np.hstack((train[:, 0], test[:, 0]))\n",
    "prediction[-len(y_pred):] = [i.item() for i in y_pred]\n",
    "\n",
    "plt.plot(prediction)\n",
    "plt.plot(dataset, \"r\")"
   ]
  },
  {
   "cell_type": "markdown",
   "metadata": {},
   "source": [
    "## Задание 3 \n",
    "\n",
    "Поучаствуйте в соревновании https://www.kaggle.com/t/db8f882eee2b4fbd9936a8c51b62245c \n",
    "\n",
    "Для зачета задания нужно получить значение MAPE меньше 0.2\n",
    "\n",
    "До 3 декабря 2021 можно получить 3,2,1 дополнительных балла за 1, 2 и 3 место соответственно.\n",
    "\n",
    "\n",
    "Опиционально: сравните классические подходы (ARIMA, gradient boosting trees и RNN)"
   ]
  },
  {
   "cell_type": "markdown",
   "metadata": {},
   "source": [
    "$\\bf{ Файл }$ time-series-prediction-technosphere-fall-2021-final.ipynb"
   ]
  },
  {
   "cell_type": "markdown",
   "metadata": {},
   "source": [
    "#### Feedback (опционально)"
   ]
  },
  {
   "cell_type": "markdown",
   "metadata": {},
   "source": [
    "Здесь вы можете оставить список опечаток из лекции или семинара:"
   ]
  },
  {
   "cell_type": "markdown",
   "metadata": {},
   "source": [
    "Здесь вы можете оставить комментарии по лекции или семинару:"
   ]
  }
 ],
 "metadata": {
  "kernelspec": {
   "display_name": "Python 3 (ipykernel)",
   "language": "python",
   "name": "python3"
  },
  "language_info": {
   "codemirror_mode": {
    "name": "ipython",
    "version": 3
   },
   "file_extension": ".py",
   "mimetype": "text/x-python",
   "name": "python",
   "nbconvert_exporter": "python",
   "pygments_lexer": "ipython3",
   "version": "3.9.6"
  },
  "latex_envs": {
   "bibliofile": "biblio.bib",
   "cite_by": "apalike",
   "current_citInitial": 1,
   "eqLabelWithNumbers": true,
   "eqNumInitial": 0
  }
 },
 "nbformat": 4,
 "nbformat_minor": 1
}
