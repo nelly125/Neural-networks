{
  "nbformat": 4,
  "nbformat_minor": 0,
  "metadata": {
    "kernelspec": {
      "display_name": "Python 3 (ipykernel)",
      "language": "python",
      "name": "python3"
    },
    "language_info": {
      "codemirror_mode": {
        "name": "ipython",
        "version": 3
      },
      "file_extension": ".py",
      "mimetype": "text/x-python",
      "name": "python",
      "nbconvert_exporter": "python",
      "pygments_lexer": "ipython3",
      "version": "3.9.6"
    },
    "latex_envs": {
      "bibliofile": "biblio.bib",
      "cite_by": "apalike",
      "current_citInitial": 1,
      "eqLabelWithNumbers": true,
      "eqNumInitial": 0
    },
    "colab": {
      "name": "Practice task 10, NLP.ipynb",
      "provenance": [],
      "collapsed_sections": [
        "5740dBYuJZsn"
      ]
    },
    "accelerator": "GPU",
    "widgets": {
      "application/vnd.jupyter.widget-state+json": {
        "23b8c448309e4583adda9a2ea229730a": {
          "model_module": "@jupyter-widgets/controls",
          "model_name": "HBoxModel",
          "model_module_version": "1.5.0",
          "state": {
            "_view_name": "HBoxView",
            "_dom_classes": [],
            "_model_name": "HBoxModel",
            "_view_module": "@jupyter-widgets/controls",
            "_model_module_version": "1.5.0",
            "_view_count": null,
            "_view_module_version": "1.5.0",
            "box_style": "",
            "layout": "IPY_MODEL_690827b2bcf54845a75636245039e03b",
            "_model_module": "@jupyter-widgets/controls",
            "children": [
              "IPY_MODEL_eabc8adc5da9482fb00821de1da80853",
              "IPY_MODEL_02040373c0c343ef89564261f6f55df8",
              "IPY_MODEL_958c126125dc4f32a9cea50416fffb01"
            ]
          }
        },
        "690827b2bcf54845a75636245039e03b": {
          "model_module": "@jupyter-widgets/base",
          "model_name": "LayoutModel",
          "model_module_version": "1.2.0",
          "state": {
            "_view_name": "LayoutView",
            "grid_template_rows": null,
            "right": null,
            "justify_content": null,
            "_view_module": "@jupyter-widgets/base",
            "overflow": null,
            "_model_module_version": "1.2.0",
            "_view_count": null,
            "flex_flow": null,
            "width": null,
            "min_width": null,
            "border": null,
            "align_items": null,
            "bottom": null,
            "_model_module": "@jupyter-widgets/base",
            "top": null,
            "grid_column": null,
            "overflow_y": null,
            "overflow_x": null,
            "grid_auto_flow": null,
            "grid_area": null,
            "grid_template_columns": null,
            "flex": null,
            "_model_name": "LayoutModel",
            "justify_items": null,
            "grid_row": null,
            "max_height": null,
            "align_content": null,
            "visibility": null,
            "align_self": null,
            "height": null,
            "min_height": null,
            "padding": null,
            "grid_auto_rows": null,
            "grid_gap": null,
            "max_width": null,
            "order": null,
            "_view_module_version": "1.2.0",
            "grid_template_areas": null,
            "object_position": null,
            "object_fit": null,
            "grid_auto_columns": null,
            "margin": null,
            "display": null,
            "left": null
          }
        },
        "eabc8adc5da9482fb00821de1da80853": {
          "model_module": "@jupyter-widgets/controls",
          "model_name": "HTMLModel",
          "model_module_version": "1.5.0",
          "state": {
            "_view_name": "HTMLView",
            "style": "IPY_MODEL_193abefec45b43bbae97f381d3b2d12f",
            "_dom_classes": [],
            "description": "",
            "_model_name": "HTMLModel",
            "placeholder": "​",
            "_view_module": "@jupyter-widgets/controls",
            "_model_module_version": "1.5.0",
            "value": "100%",
            "_view_count": null,
            "_view_module_version": "1.5.0",
            "description_tooltip": null,
            "_model_module": "@jupyter-widgets/controls",
            "layout": "IPY_MODEL_83a76dbb72584969b8e574a4d17ced27"
          }
        },
        "02040373c0c343ef89564261f6f55df8": {
          "model_module": "@jupyter-widgets/controls",
          "model_name": "FloatProgressModel",
          "model_module_version": "1.5.0",
          "state": {
            "_view_name": "ProgressView",
            "style": "IPY_MODEL_dff71486249740c7844c122c57d8a0a8",
            "_dom_classes": [],
            "description": "",
            "_model_name": "FloatProgressModel",
            "bar_style": "success",
            "max": 614,
            "_view_module": "@jupyter-widgets/controls",
            "_model_module_version": "1.5.0",
            "value": 614,
            "_view_count": null,
            "_view_module_version": "1.5.0",
            "orientation": "horizontal",
            "min": 0,
            "description_tooltip": null,
            "_model_module": "@jupyter-widgets/controls",
            "layout": "IPY_MODEL_50e49b8070d04d24a7cd266b4baa787e"
          }
        },
        "958c126125dc4f32a9cea50416fffb01": {
          "model_module": "@jupyter-widgets/controls",
          "model_name": "HTMLModel",
          "model_module_version": "1.5.0",
          "state": {
            "_view_name": "HTMLView",
            "style": "IPY_MODEL_8d0c56f249c840a19dbc3feea5b10147",
            "_dom_classes": [],
            "description": "",
            "_model_name": "HTMLModel",
            "placeholder": "​",
            "_view_module": "@jupyter-widgets/controls",
            "_model_module_version": "1.5.0",
            "value": " 614/614 [04:11&lt;00:00,  2.86it/s]",
            "_view_count": null,
            "_view_module_version": "1.5.0",
            "description_tooltip": null,
            "_model_module": "@jupyter-widgets/controls",
            "layout": "IPY_MODEL_347268737aff4f649c60976d5ea5259b"
          }
        },
        "193abefec45b43bbae97f381d3b2d12f": {
          "model_module": "@jupyter-widgets/controls",
          "model_name": "DescriptionStyleModel",
          "model_module_version": "1.5.0",
          "state": {
            "_view_name": "StyleView",
            "_model_name": "DescriptionStyleModel",
            "description_width": "",
            "_view_module": "@jupyter-widgets/base",
            "_model_module_version": "1.5.0",
            "_view_count": null,
            "_view_module_version": "1.2.0",
            "_model_module": "@jupyter-widgets/controls"
          }
        },
        "83a76dbb72584969b8e574a4d17ced27": {
          "model_module": "@jupyter-widgets/base",
          "model_name": "LayoutModel",
          "model_module_version": "1.2.0",
          "state": {
            "_view_name": "LayoutView",
            "grid_template_rows": null,
            "right": null,
            "justify_content": null,
            "_view_module": "@jupyter-widgets/base",
            "overflow": null,
            "_model_module_version": "1.2.0",
            "_view_count": null,
            "flex_flow": null,
            "width": null,
            "min_width": null,
            "border": null,
            "align_items": null,
            "bottom": null,
            "_model_module": "@jupyter-widgets/base",
            "top": null,
            "grid_column": null,
            "overflow_y": null,
            "overflow_x": null,
            "grid_auto_flow": null,
            "grid_area": null,
            "grid_template_columns": null,
            "flex": null,
            "_model_name": "LayoutModel",
            "justify_items": null,
            "grid_row": null,
            "max_height": null,
            "align_content": null,
            "visibility": null,
            "align_self": null,
            "height": null,
            "min_height": null,
            "padding": null,
            "grid_auto_rows": null,
            "grid_gap": null,
            "max_width": null,
            "order": null,
            "_view_module_version": "1.2.0",
            "grid_template_areas": null,
            "object_position": null,
            "object_fit": null,
            "grid_auto_columns": null,
            "margin": null,
            "display": null,
            "left": null
          }
        },
        "dff71486249740c7844c122c57d8a0a8": {
          "model_module": "@jupyter-widgets/controls",
          "model_name": "ProgressStyleModel",
          "model_module_version": "1.5.0",
          "state": {
            "_view_name": "StyleView",
            "_model_name": "ProgressStyleModel",
            "description_width": "",
            "_view_module": "@jupyter-widgets/base",
            "_model_module_version": "1.5.0",
            "_view_count": null,
            "_view_module_version": "1.2.0",
            "bar_color": null,
            "_model_module": "@jupyter-widgets/controls"
          }
        },
        "50e49b8070d04d24a7cd266b4baa787e": {
          "model_module": "@jupyter-widgets/base",
          "model_name": "LayoutModel",
          "model_module_version": "1.2.0",
          "state": {
            "_view_name": "LayoutView",
            "grid_template_rows": null,
            "right": null,
            "justify_content": null,
            "_view_module": "@jupyter-widgets/base",
            "overflow": null,
            "_model_module_version": "1.2.0",
            "_view_count": null,
            "flex_flow": null,
            "width": null,
            "min_width": null,
            "border": null,
            "align_items": null,
            "bottom": null,
            "_model_module": "@jupyter-widgets/base",
            "top": null,
            "grid_column": null,
            "overflow_y": null,
            "overflow_x": null,
            "grid_auto_flow": null,
            "grid_area": null,
            "grid_template_columns": null,
            "flex": null,
            "_model_name": "LayoutModel",
            "justify_items": null,
            "grid_row": null,
            "max_height": null,
            "align_content": null,
            "visibility": null,
            "align_self": null,
            "height": null,
            "min_height": null,
            "padding": null,
            "grid_auto_rows": null,
            "grid_gap": null,
            "max_width": null,
            "order": null,
            "_view_module_version": "1.2.0",
            "grid_template_areas": null,
            "object_position": null,
            "object_fit": null,
            "grid_auto_columns": null,
            "margin": null,
            "display": null,
            "left": null
          }
        },
        "8d0c56f249c840a19dbc3feea5b10147": {
          "model_module": "@jupyter-widgets/controls",
          "model_name": "DescriptionStyleModel",
          "model_module_version": "1.5.0",
          "state": {
            "_view_name": "StyleView",
            "_model_name": "DescriptionStyleModel",
            "description_width": "",
            "_view_module": "@jupyter-widgets/base",
            "_model_module_version": "1.5.0",
            "_view_count": null,
            "_view_module_version": "1.2.0",
            "_model_module": "@jupyter-widgets/controls"
          }
        },
        "347268737aff4f649c60976d5ea5259b": {
          "model_module": "@jupyter-widgets/base",
          "model_name": "LayoutModel",
          "model_module_version": "1.2.0",
          "state": {
            "_view_name": "LayoutView",
            "grid_template_rows": null,
            "right": null,
            "justify_content": null,
            "_view_module": "@jupyter-widgets/base",
            "overflow": null,
            "_model_module_version": "1.2.0",
            "_view_count": null,
            "flex_flow": null,
            "width": null,
            "min_width": null,
            "border": null,
            "align_items": null,
            "bottom": null,
            "_model_module": "@jupyter-widgets/base",
            "top": null,
            "grid_column": null,
            "overflow_y": null,
            "overflow_x": null,
            "grid_auto_flow": null,
            "grid_area": null,
            "grid_template_columns": null,
            "flex": null,
            "_model_name": "LayoutModel",
            "justify_items": null,
            "grid_row": null,
            "max_height": null,
            "align_content": null,
            "visibility": null,
            "align_self": null,
            "height": null,
            "min_height": null,
            "padding": null,
            "grid_auto_rows": null,
            "grid_gap": null,
            "max_width": null,
            "order": null,
            "_view_module_version": "1.2.0",
            "grid_template_areas": null,
            "object_position": null,
            "object_fit": null,
            "grid_auto_columns": null,
            "margin": null,
            "display": null,
            "left": null
          }
        },
        "b5f793c1d8554ee0a30d7b7e03e3bbe6": {
          "model_module": "@jupyter-widgets/controls",
          "model_name": "HBoxModel",
          "model_module_version": "1.5.0",
          "state": {
            "_view_name": "HBoxView",
            "_dom_classes": [],
            "_model_name": "HBoxModel",
            "_view_module": "@jupyter-widgets/controls",
            "_model_module_version": "1.5.0",
            "_view_count": null,
            "_view_module_version": "1.5.0",
            "box_style": "",
            "layout": "IPY_MODEL_c30327f45b7342e690613d7090c27514",
            "_model_module": "@jupyter-widgets/controls",
            "children": [
              "IPY_MODEL_3bf1392b7ec6441e9e33831c356a2583",
              "IPY_MODEL_7d4d00594c5341ab9440f8dfb7aea768",
              "IPY_MODEL_8f73ecb7332a492eb9d1a08283cb87df"
            ]
          }
        },
        "c30327f45b7342e690613d7090c27514": {
          "model_module": "@jupyter-widgets/base",
          "model_name": "LayoutModel",
          "model_module_version": "1.2.0",
          "state": {
            "_view_name": "LayoutView",
            "grid_template_rows": null,
            "right": null,
            "justify_content": null,
            "_view_module": "@jupyter-widgets/base",
            "overflow": null,
            "_model_module_version": "1.2.0",
            "_view_count": null,
            "flex_flow": null,
            "width": null,
            "min_width": null,
            "border": null,
            "align_items": null,
            "bottom": null,
            "_model_module": "@jupyter-widgets/base",
            "top": null,
            "grid_column": null,
            "overflow_y": null,
            "overflow_x": null,
            "grid_auto_flow": null,
            "grid_area": null,
            "grid_template_columns": null,
            "flex": null,
            "_model_name": "LayoutModel",
            "justify_items": null,
            "grid_row": null,
            "max_height": null,
            "align_content": null,
            "visibility": null,
            "align_self": null,
            "height": null,
            "min_height": null,
            "padding": null,
            "grid_auto_rows": null,
            "grid_gap": null,
            "max_width": null,
            "order": null,
            "_view_module_version": "1.2.0",
            "grid_template_areas": null,
            "object_position": null,
            "object_fit": null,
            "grid_auto_columns": null,
            "margin": null,
            "display": null,
            "left": null
          }
        },
        "3bf1392b7ec6441e9e33831c356a2583": {
          "model_module": "@jupyter-widgets/controls",
          "model_name": "HTMLModel",
          "model_module_version": "1.5.0",
          "state": {
            "_view_name": "HTMLView",
            "style": "IPY_MODEL_ace0b617ba334d82a87c0b326a4c7bb7",
            "_dom_classes": [],
            "description": "",
            "_model_name": "HTMLModel",
            "placeholder": "​",
            "_view_module": "@jupyter-widgets/controls",
            "_model_module_version": "1.5.0",
            "value": "100%",
            "_view_count": null,
            "_view_module_version": "1.5.0",
            "description_tooltip": null,
            "_model_module": "@jupyter-widgets/controls",
            "layout": "IPY_MODEL_06f85667d88d446a8189aa4241ac7a9c"
          }
        },
        "7d4d00594c5341ab9440f8dfb7aea768": {
          "model_module": "@jupyter-widgets/controls",
          "model_name": "FloatProgressModel",
          "model_module_version": "1.5.0",
          "state": {
            "_view_name": "ProgressView",
            "style": "IPY_MODEL_78a102655bb14a56b5da038e3418b951",
            "_dom_classes": [],
            "description": "",
            "_model_name": "FloatProgressModel",
            "bar_style": "success",
            "max": 614,
            "_view_module": "@jupyter-widgets/controls",
            "_model_module_version": "1.5.0",
            "value": 614,
            "_view_count": null,
            "_view_module_version": "1.5.0",
            "orientation": "horizontal",
            "min": 0,
            "description_tooltip": null,
            "_model_module": "@jupyter-widgets/controls",
            "layout": "IPY_MODEL_10869b7c725446f3866a8e308be7ee20"
          }
        },
        "8f73ecb7332a492eb9d1a08283cb87df": {
          "model_module": "@jupyter-widgets/controls",
          "model_name": "HTMLModel",
          "model_module_version": "1.5.0",
          "state": {
            "_view_name": "HTMLView",
            "style": "IPY_MODEL_864e6c19b22741d0bc412e19e81ad246",
            "_dom_classes": [],
            "description": "",
            "_model_name": "HTMLModel",
            "placeholder": "​",
            "_view_module": "@jupyter-widgets/controls",
            "_model_module_version": "1.5.0",
            "value": " 614/614 [04:10&lt;00:00,  2.57it/s]",
            "_view_count": null,
            "_view_module_version": "1.5.0",
            "description_tooltip": null,
            "_model_module": "@jupyter-widgets/controls",
            "layout": "IPY_MODEL_a7f109e08332408196feae4f84b9cf4a"
          }
        },
        "ace0b617ba334d82a87c0b326a4c7bb7": {
          "model_module": "@jupyter-widgets/controls",
          "model_name": "DescriptionStyleModel",
          "model_module_version": "1.5.0",
          "state": {
            "_view_name": "StyleView",
            "_model_name": "DescriptionStyleModel",
            "description_width": "",
            "_view_module": "@jupyter-widgets/base",
            "_model_module_version": "1.5.0",
            "_view_count": null,
            "_view_module_version": "1.2.0",
            "_model_module": "@jupyter-widgets/controls"
          }
        },
        "06f85667d88d446a8189aa4241ac7a9c": {
          "model_module": "@jupyter-widgets/base",
          "model_name": "LayoutModel",
          "model_module_version": "1.2.0",
          "state": {
            "_view_name": "LayoutView",
            "grid_template_rows": null,
            "right": null,
            "justify_content": null,
            "_view_module": "@jupyter-widgets/base",
            "overflow": null,
            "_model_module_version": "1.2.0",
            "_view_count": null,
            "flex_flow": null,
            "width": null,
            "min_width": null,
            "border": null,
            "align_items": null,
            "bottom": null,
            "_model_module": "@jupyter-widgets/base",
            "top": null,
            "grid_column": null,
            "overflow_y": null,
            "overflow_x": null,
            "grid_auto_flow": null,
            "grid_area": null,
            "grid_template_columns": null,
            "flex": null,
            "_model_name": "LayoutModel",
            "justify_items": null,
            "grid_row": null,
            "max_height": null,
            "align_content": null,
            "visibility": null,
            "align_self": null,
            "height": null,
            "min_height": null,
            "padding": null,
            "grid_auto_rows": null,
            "grid_gap": null,
            "max_width": null,
            "order": null,
            "_view_module_version": "1.2.0",
            "grid_template_areas": null,
            "object_position": null,
            "object_fit": null,
            "grid_auto_columns": null,
            "margin": null,
            "display": null,
            "left": null
          }
        },
        "78a102655bb14a56b5da038e3418b951": {
          "model_module": "@jupyter-widgets/controls",
          "model_name": "ProgressStyleModel",
          "model_module_version": "1.5.0",
          "state": {
            "_view_name": "StyleView",
            "_model_name": "ProgressStyleModel",
            "description_width": "",
            "_view_module": "@jupyter-widgets/base",
            "_model_module_version": "1.5.0",
            "_view_count": null,
            "_view_module_version": "1.2.0",
            "bar_color": null,
            "_model_module": "@jupyter-widgets/controls"
          }
        },
        "10869b7c725446f3866a8e308be7ee20": {
          "model_module": "@jupyter-widgets/base",
          "model_name": "LayoutModel",
          "model_module_version": "1.2.0",
          "state": {
            "_view_name": "LayoutView",
            "grid_template_rows": null,
            "right": null,
            "justify_content": null,
            "_view_module": "@jupyter-widgets/base",
            "overflow": null,
            "_model_module_version": "1.2.0",
            "_view_count": null,
            "flex_flow": null,
            "width": null,
            "min_width": null,
            "border": null,
            "align_items": null,
            "bottom": null,
            "_model_module": "@jupyter-widgets/base",
            "top": null,
            "grid_column": null,
            "overflow_y": null,
            "overflow_x": null,
            "grid_auto_flow": null,
            "grid_area": null,
            "grid_template_columns": null,
            "flex": null,
            "_model_name": "LayoutModel",
            "justify_items": null,
            "grid_row": null,
            "max_height": null,
            "align_content": null,
            "visibility": null,
            "align_self": null,
            "height": null,
            "min_height": null,
            "padding": null,
            "grid_auto_rows": null,
            "grid_gap": null,
            "max_width": null,
            "order": null,
            "_view_module_version": "1.2.0",
            "grid_template_areas": null,
            "object_position": null,
            "object_fit": null,
            "grid_auto_columns": null,
            "margin": null,
            "display": null,
            "left": null
          }
        },
        "864e6c19b22741d0bc412e19e81ad246": {
          "model_module": "@jupyter-widgets/controls",
          "model_name": "DescriptionStyleModel",
          "model_module_version": "1.5.0",
          "state": {
            "_view_name": "StyleView",
            "_model_name": "DescriptionStyleModel",
            "description_width": "",
            "_view_module": "@jupyter-widgets/base",
            "_model_module_version": "1.5.0",
            "_view_count": null,
            "_view_module_version": "1.2.0",
            "_model_module": "@jupyter-widgets/controls"
          }
        },
        "a7f109e08332408196feae4f84b9cf4a": {
          "model_module": "@jupyter-widgets/base",
          "model_name": "LayoutModel",
          "model_module_version": "1.2.0",
          "state": {
            "_view_name": "LayoutView",
            "grid_template_rows": null,
            "right": null,
            "justify_content": null,
            "_view_module": "@jupyter-widgets/base",
            "overflow": null,
            "_model_module_version": "1.2.0",
            "_view_count": null,
            "flex_flow": null,
            "width": null,
            "min_width": null,
            "border": null,
            "align_items": null,
            "bottom": null,
            "_model_module": "@jupyter-widgets/base",
            "top": null,
            "grid_column": null,
            "overflow_y": null,
            "overflow_x": null,
            "grid_auto_flow": null,
            "grid_area": null,
            "grid_template_columns": null,
            "flex": null,
            "_model_name": "LayoutModel",
            "justify_items": null,
            "grid_row": null,
            "max_height": null,
            "align_content": null,
            "visibility": null,
            "align_self": null,
            "height": null,
            "min_height": null,
            "padding": null,
            "grid_auto_rows": null,
            "grid_gap": null,
            "max_width": null,
            "order": null,
            "_view_module_version": "1.2.0",
            "grid_template_areas": null,
            "object_position": null,
            "object_fit": null,
            "grid_auto_columns": null,
            "margin": null,
            "display": null,
            "left": null
          }
        },
        "f806fa8ce37b42fbb5a520baa4903abe": {
          "model_module": "@jupyter-widgets/controls",
          "model_name": "HBoxModel",
          "model_module_version": "1.5.0",
          "state": {
            "_view_name": "HBoxView",
            "_dom_classes": [],
            "_model_name": "HBoxModel",
            "_view_module": "@jupyter-widgets/controls",
            "_model_module_version": "1.5.0",
            "_view_count": null,
            "_view_module_version": "1.5.0",
            "box_style": "",
            "layout": "IPY_MODEL_1a29313b4f494756a99dbbec54226864",
            "_model_module": "@jupyter-widgets/controls",
            "children": [
              "IPY_MODEL_51fcf1f4ee5a4bd5bb1a7ec6cf944a5a",
              "IPY_MODEL_e80fd8a604fa4b3789ccfe749ea72653",
              "IPY_MODEL_ab04542d5102445a809a06ba48025507"
            ]
          }
        },
        "1a29313b4f494756a99dbbec54226864": {
          "model_module": "@jupyter-widgets/base",
          "model_name": "LayoutModel",
          "model_module_version": "1.2.0",
          "state": {
            "_view_name": "LayoutView",
            "grid_template_rows": null,
            "right": null,
            "justify_content": null,
            "_view_module": "@jupyter-widgets/base",
            "overflow": null,
            "_model_module_version": "1.2.0",
            "_view_count": null,
            "flex_flow": null,
            "width": null,
            "min_width": null,
            "border": null,
            "align_items": null,
            "bottom": null,
            "_model_module": "@jupyter-widgets/base",
            "top": null,
            "grid_column": null,
            "overflow_y": null,
            "overflow_x": null,
            "grid_auto_flow": null,
            "grid_area": null,
            "grid_template_columns": null,
            "flex": null,
            "_model_name": "LayoutModel",
            "justify_items": null,
            "grid_row": null,
            "max_height": null,
            "align_content": null,
            "visibility": null,
            "align_self": null,
            "height": null,
            "min_height": null,
            "padding": null,
            "grid_auto_rows": null,
            "grid_gap": null,
            "max_width": null,
            "order": null,
            "_view_module_version": "1.2.0",
            "grid_template_areas": null,
            "object_position": null,
            "object_fit": null,
            "grid_auto_columns": null,
            "margin": null,
            "display": null,
            "left": null
          }
        },
        "51fcf1f4ee5a4bd5bb1a7ec6cf944a5a": {
          "model_module": "@jupyter-widgets/controls",
          "model_name": "HTMLModel",
          "model_module_version": "1.5.0",
          "state": {
            "_view_name": "HTMLView",
            "style": "IPY_MODEL_fc97e03ba17d47c2ade32b051336ee98",
            "_dom_classes": [],
            "description": "",
            "_model_name": "HTMLModel",
            "placeholder": "​",
            "_view_module": "@jupyter-widgets/controls",
            "_model_module_version": "1.5.0",
            "value": "100%",
            "_view_count": null,
            "_view_module_version": "1.5.0",
            "description_tooltip": null,
            "_model_module": "@jupyter-widgets/controls",
            "layout": "IPY_MODEL_313bae1d1052492b97897c01a0243ff1"
          }
        },
        "e80fd8a604fa4b3789ccfe749ea72653": {
          "model_module": "@jupyter-widgets/controls",
          "model_name": "FloatProgressModel",
          "model_module_version": "1.5.0",
          "state": {
            "_view_name": "ProgressView",
            "style": "IPY_MODEL_a7eba146b76f45f697fc2f17507653d1",
            "_dom_classes": [],
            "description": "",
            "_model_name": "FloatProgressModel",
            "bar_style": "success",
            "max": 614,
            "_view_module": "@jupyter-widgets/controls",
            "_model_module_version": "1.5.0",
            "value": 614,
            "_view_count": null,
            "_view_module_version": "1.5.0",
            "orientation": "horizontal",
            "min": 0,
            "description_tooltip": null,
            "_model_module": "@jupyter-widgets/controls",
            "layout": "IPY_MODEL_3bbe0cfc12c041c1bb67a19cc511181a"
          }
        },
        "ab04542d5102445a809a06ba48025507": {
          "model_module": "@jupyter-widgets/controls",
          "model_name": "HTMLModel",
          "model_module_version": "1.5.0",
          "state": {
            "_view_name": "HTMLView",
            "style": "IPY_MODEL_58c4f8acca6a4bb6a9f137636a7580bd",
            "_dom_classes": [],
            "description": "",
            "_model_name": "HTMLModel",
            "placeholder": "​",
            "_view_module": "@jupyter-widgets/controls",
            "_model_module_version": "1.5.0",
            "value": " 614/614 [04:11&lt;00:00,  2.96it/s]",
            "_view_count": null,
            "_view_module_version": "1.5.0",
            "description_tooltip": null,
            "_model_module": "@jupyter-widgets/controls",
            "layout": "IPY_MODEL_6f4b515bd99a4b67a9f4cf0f1ecb4246"
          }
        },
        "fc97e03ba17d47c2ade32b051336ee98": {
          "model_module": "@jupyter-widgets/controls",
          "model_name": "DescriptionStyleModel",
          "model_module_version": "1.5.0",
          "state": {
            "_view_name": "StyleView",
            "_model_name": "DescriptionStyleModel",
            "description_width": "",
            "_view_module": "@jupyter-widgets/base",
            "_model_module_version": "1.5.0",
            "_view_count": null,
            "_view_module_version": "1.2.0",
            "_model_module": "@jupyter-widgets/controls"
          }
        },
        "313bae1d1052492b97897c01a0243ff1": {
          "model_module": "@jupyter-widgets/base",
          "model_name": "LayoutModel",
          "model_module_version": "1.2.0",
          "state": {
            "_view_name": "LayoutView",
            "grid_template_rows": null,
            "right": null,
            "justify_content": null,
            "_view_module": "@jupyter-widgets/base",
            "overflow": null,
            "_model_module_version": "1.2.0",
            "_view_count": null,
            "flex_flow": null,
            "width": null,
            "min_width": null,
            "border": null,
            "align_items": null,
            "bottom": null,
            "_model_module": "@jupyter-widgets/base",
            "top": null,
            "grid_column": null,
            "overflow_y": null,
            "overflow_x": null,
            "grid_auto_flow": null,
            "grid_area": null,
            "grid_template_columns": null,
            "flex": null,
            "_model_name": "LayoutModel",
            "justify_items": null,
            "grid_row": null,
            "max_height": null,
            "align_content": null,
            "visibility": null,
            "align_self": null,
            "height": null,
            "min_height": null,
            "padding": null,
            "grid_auto_rows": null,
            "grid_gap": null,
            "max_width": null,
            "order": null,
            "_view_module_version": "1.2.0",
            "grid_template_areas": null,
            "object_position": null,
            "object_fit": null,
            "grid_auto_columns": null,
            "margin": null,
            "display": null,
            "left": null
          }
        },
        "a7eba146b76f45f697fc2f17507653d1": {
          "model_module": "@jupyter-widgets/controls",
          "model_name": "ProgressStyleModel",
          "model_module_version": "1.5.0",
          "state": {
            "_view_name": "StyleView",
            "_model_name": "ProgressStyleModel",
            "description_width": "",
            "_view_module": "@jupyter-widgets/base",
            "_model_module_version": "1.5.0",
            "_view_count": null,
            "_view_module_version": "1.2.0",
            "bar_color": null,
            "_model_module": "@jupyter-widgets/controls"
          }
        },
        "3bbe0cfc12c041c1bb67a19cc511181a": {
          "model_module": "@jupyter-widgets/base",
          "model_name": "LayoutModel",
          "model_module_version": "1.2.0",
          "state": {
            "_view_name": "LayoutView",
            "grid_template_rows": null,
            "right": null,
            "justify_content": null,
            "_view_module": "@jupyter-widgets/base",
            "overflow": null,
            "_model_module_version": "1.2.0",
            "_view_count": null,
            "flex_flow": null,
            "width": null,
            "min_width": null,
            "border": null,
            "align_items": null,
            "bottom": null,
            "_model_module": "@jupyter-widgets/base",
            "top": null,
            "grid_column": null,
            "overflow_y": null,
            "overflow_x": null,
            "grid_auto_flow": null,
            "grid_area": null,
            "grid_template_columns": null,
            "flex": null,
            "_model_name": "LayoutModel",
            "justify_items": null,
            "grid_row": null,
            "max_height": null,
            "align_content": null,
            "visibility": null,
            "align_self": null,
            "height": null,
            "min_height": null,
            "padding": null,
            "grid_auto_rows": null,
            "grid_gap": null,
            "max_width": null,
            "order": null,
            "_view_module_version": "1.2.0",
            "grid_template_areas": null,
            "object_position": null,
            "object_fit": null,
            "grid_auto_columns": null,
            "margin": null,
            "display": null,
            "left": null
          }
        },
        "58c4f8acca6a4bb6a9f137636a7580bd": {
          "model_module": "@jupyter-widgets/controls",
          "model_name": "DescriptionStyleModel",
          "model_module_version": "1.5.0",
          "state": {
            "_view_name": "StyleView",
            "_model_name": "DescriptionStyleModel",
            "description_width": "",
            "_view_module": "@jupyter-widgets/base",
            "_model_module_version": "1.5.0",
            "_view_count": null,
            "_view_module_version": "1.2.0",
            "_model_module": "@jupyter-widgets/controls"
          }
        },
        "6f4b515bd99a4b67a9f4cf0f1ecb4246": {
          "model_module": "@jupyter-widgets/base",
          "model_name": "LayoutModel",
          "model_module_version": "1.2.0",
          "state": {
            "_view_name": "LayoutView",
            "grid_template_rows": null,
            "right": null,
            "justify_content": null,
            "_view_module": "@jupyter-widgets/base",
            "overflow": null,
            "_model_module_version": "1.2.0",
            "_view_count": null,
            "flex_flow": null,
            "width": null,
            "min_width": null,
            "border": null,
            "align_items": null,
            "bottom": null,
            "_model_module": "@jupyter-widgets/base",
            "top": null,
            "grid_column": null,
            "overflow_y": null,
            "overflow_x": null,
            "grid_auto_flow": null,
            "grid_area": null,
            "grid_template_columns": null,
            "flex": null,
            "_model_name": "LayoutModel",
            "justify_items": null,
            "grid_row": null,
            "max_height": null,
            "align_content": null,
            "visibility": null,
            "align_self": null,
            "height": null,
            "min_height": null,
            "padding": null,
            "grid_auto_rows": null,
            "grid_gap": null,
            "max_width": null,
            "order": null,
            "_view_module_version": "1.2.0",
            "grid_template_areas": null,
            "object_position": null,
            "object_fit": null,
            "grid_auto_columns": null,
            "margin": null,
            "display": null,
            "left": null
          }
        },
        "f801bdf1c51345e6bf0eb907ff260608": {
          "model_module": "@jupyter-widgets/controls",
          "model_name": "HBoxModel",
          "model_module_version": "1.5.0",
          "state": {
            "_view_name": "HBoxView",
            "_dom_classes": [],
            "_model_name": "HBoxModel",
            "_view_module": "@jupyter-widgets/controls",
            "_model_module_version": "1.5.0",
            "_view_count": null,
            "_view_module_version": "1.5.0",
            "box_style": "",
            "layout": "IPY_MODEL_3666d79ab6044d8b9282051d4de9b3f8",
            "_model_module": "@jupyter-widgets/controls",
            "children": [
              "IPY_MODEL_b859c58e1e8e4a37bd131c254eba044e",
              "IPY_MODEL_babd4c72e7af4df6b3d0e6c5b64e5700",
              "IPY_MODEL_802694272fd44a4ab42ce35d5baa1f3e"
            ]
          }
        },
        "3666d79ab6044d8b9282051d4de9b3f8": {
          "model_module": "@jupyter-widgets/base",
          "model_name": "LayoutModel",
          "model_module_version": "1.2.0",
          "state": {
            "_view_name": "LayoutView",
            "grid_template_rows": null,
            "right": null,
            "justify_content": null,
            "_view_module": "@jupyter-widgets/base",
            "overflow": null,
            "_model_module_version": "1.2.0",
            "_view_count": null,
            "flex_flow": null,
            "width": null,
            "min_width": null,
            "border": null,
            "align_items": null,
            "bottom": null,
            "_model_module": "@jupyter-widgets/base",
            "top": null,
            "grid_column": null,
            "overflow_y": null,
            "overflow_x": null,
            "grid_auto_flow": null,
            "grid_area": null,
            "grid_template_columns": null,
            "flex": null,
            "_model_name": "LayoutModel",
            "justify_items": null,
            "grid_row": null,
            "max_height": null,
            "align_content": null,
            "visibility": null,
            "align_self": null,
            "height": null,
            "min_height": null,
            "padding": null,
            "grid_auto_rows": null,
            "grid_gap": null,
            "max_width": null,
            "order": null,
            "_view_module_version": "1.2.0",
            "grid_template_areas": null,
            "object_position": null,
            "object_fit": null,
            "grid_auto_columns": null,
            "margin": null,
            "display": null,
            "left": null
          }
        },
        "b859c58e1e8e4a37bd131c254eba044e": {
          "model_module": "@jupyter-widgets/controls",
          "model_name": "HTMLModel",
          "model_module_version": "1.5.0",
          "state": {
            "_view_name": "HTMLView",
            "style": "IPY_MODEL_8f2c6258121f4e5b854acb8c0207f823",
            "_dom_classes": [],
            "description": "",
            "_model_name": "HTMLModel",
            "placeholder": "​",
            "_view_module": "@jupyter-widgets/controls",
            "_model_module_version": "1.5.0",
            "value": "100%",
            "_view_count": null,
            "_view_module_version": "1.5.0",
            "description_tooltip": null,
            "_model_module": "@jupyter-widgets/controls",
            "layout": "IPY_MODEL_6fa7498f788f4e04949b3f14e99bf9e8"
          }
        },
        "babd4c72e7af4df6b3d0e6c5b64e5700": {
          "model_module": "@jupyter-widgets/controls",
          "model_name": "FloatProgressModel",
          "model_module_version": "1.5.0",
          "state": {
            "_view_name": "ProgressView",
            "style": "IPY_MODEL_b710ccc5c49b4280b8fd34d2ca8efc75",
            "_dom_classes": [],
            "description": "",
            "_model_name": "FloatProgressModel",
            "bar_style": "success",
            "max": 461,
            "_view_module": "@jupyter-widgets/controls",
            "_model_module_version": "1.5.0",
            "value": 461,
            "_view_count": null,
            "_view_module_version": "1.5.0",
            "orientation": "horizontal",
            "min": 0,
            "description_tooltip": null,
            "_model_module": "@jupyter-widgets/controls",
            "layout": "IPY_MODEL_03c45e16592e4b869d4ef647bd2b906e"
          }
        },
        "802694272fd44a4ab42ce35d5baa1f3e": {
          "model_module": "@jupyter-widgets/controls",
          "model_name": "HTMLModel",
          "model_module_version": "1.5.0",
          "state": {
            "_view_name": "HTMLView",
            "style": "IPY_MODEL_9df29ccb279f412fa3ae2d1edd844821",
            "_dom_classes": [],
            "description": "",
            "_model_name": "HTMLModel",
            "placeholder": "​",
            "_view_module": "@jupyter-widgets/controls",
            "_model_module_version": "1.5.0",
            "value": " 461/461 [01:02&lt;00:00,  7.54it/s]",
            "_view_count": null,
            "_view_module_version": "1.5.0",
            "description_tooltip": null,
            "_model_module": "@jupyter-widgets/controls",
            "layout": "IPY_MODEL_5ce983442d03472ebeb27f3be87b45be"
          }
        },
        "8f2c6258121f4e5b854acb8c0207f823": {
          "model_module": "@jupyter-widgets/controls",
          "model_name": "DescriptionStyleModel",
          "model_module_version": "1.5.0",
          "state": {
            "_view_name": "StyleView",
            "_model_name": "DescriptionStyleModel",
            "description_width": "",
            "_view_module": "@jupyter-widgets/base",
            "_model_module_version": "1.5.0",
            "_view_count": null,
            "_view_module_version": "1.2.0",
            "_model_module": "@jupyter-widgets/controls"
          }
        },
        "6fa7498f788f4e04949b3f14e99bf9e8": {
          "model_module": "@jupyter-widgets/base",
          "model_name": "LayoutModel",
          "model_module_version": "1.2.0",
          "state": {
            "_view_name": "LayoutView",
            "grid_template_rows": null,
            "right": null,
            "justify_content": null,
            "_view_module": "@jupyter-widgets/base",
            "overflow": null,
            "_model_module_version": "1.2.0",
            "_view_count": null,
            "flex_flow": null,
            "width": null,
            "min_width": null,
            "border": null,
            "align_items": null,
            "bottom": null,
            "_model_module": "@jupyter-widgets/base",
            "top": null,
            "grid_column": null,
            "overflow_y": null,
            "overflow_x": null,
            "grid_auto_flow": null,
            "grid_area": null,
            "grid_template_columns": null,
            "flex": null,
            "_model_name": "LayoutModel",
            "justify_items": null,
            "grid_row": null,
            "max_height": null,
            "align_content": null,
            "visibility": null,
            "align_self": null,
            "height": null,
            "min_height": null,
            "padding": null,
            "grid_auto_rows": null,
            "grid_gap": null,
            "max_width": null,
            "order": null,
            "_view_module_version": "1.2.0",
            "grid_template_areas": null,
            "object_position": null,
            "object_fit": null,
            "grid_auto_columns": null,
            "margin": null,
            "display": null,
            "left": null
          }
        },
        "b710ccc5c49b4280b8fd34d2ca8efc75": {
          "model_module": "@jupyter-widgets/controls",
          "model_name": "ProgressStyleModel",
          "model_module_version": "1.5.0",
          "state": {
            "_view_name": "StyleView",
            "_model_name": "ProgressStyleModel",
            "description_width": "",
            "_view_module": "@jupyter-widgets/base",
            "_model_module_version": "1.5.0",
            "_view_count": null,
            "_view_module_version": "1.2.0",
            "bar_color": null,
            "_model_module": "@jupyter-widgets/controls"
          }
        },
        "03c45e16592e4b869d4ef647bd2b906e": {
          "model_module": "@jupyter-widgets/base",
          "model_name": "LayoutModel",
          "model_module_version": "1.2.0",
          "state": {
            "_view_name": "LayoutView",
            "grid_template_rows": null,
            "right": null,
            "justify_content": null,
            "_view_module": "@jupyter-widgets/base",
            "overflow": null,
            "_model_module_version": "1.2.0",
            "_view_count": null,
            "flex_flow": null,
            "width": null,
            "min_width": null,
            "border": null,
            "align_items": null,
            "bottom": null,
            "_model_module": "@jupyter-widgets/base",
            "top": null,
            "grid_column": null,
            "overflow_y": null,
            "overflow_x": null,
            "grid_auto_flow": null,
            "grid_area": null,
            "grid_template_columns": null,
            "flex": null,
            "_model_name": "LayoutModel",
            "justify_items": null,
            "grid_row": null,
            "max_height": null,
            "align_content": null,
            "visibility": null,
            "align_self": null,
            "height": null,
            "min_height": null,
            "padding": null,
            "grid_auto_rows": null,
            "grid_gap": null,
            "max_width": null,
            "order": null,
            "_view_module_version": "1.2.0",
            "grid_template_areas": null,
            "object_position": null,
            "object_fit": null,
            "grid_auto_columns": null,
            "margin": null,
            "display": null,
            "left": null
          }
        },
        "9df29ccb279f412fa3ae2d1edd844821": {
          "model_module": "@jupyter-widgets/controls",
          "model_name": "DescriptionStyleModel",
          "model_module_version": "1.5.0",
          "state": {
            "_view_name": "StyleView",
            "_model_name": "DescriptionStyleModel",
            "description_width": "",
            "_view_module": "@jupyter-widgets/base",
            "_model_module_version": "1.5.0",
            "_view_count": null,
            "_view_module_version": "1.2.0",
            "_model_module": "@jupyter-widgets/controls"
          }
        },
        "5ce983442d03472ebeb27f3be87b45be": {
          "model_module": "@jupyter-widgets/base",
          "model_name": "LayoutModel",
          "model_module_version": "1.2.0",
          "state": {
            "_view_name": "LayoutView",
            "grid_template_rows": null,
            "right": null,
            "justify_content": null,
            "_view_module": "@jupyter-widgets/base",
            "overflow": null,
            "_model_module_version": "1.2.0",
            "_view_count": null,
            "flex_flow": null,
            "width": null,
            "min_width": null,
            "border": null,
            "align_items": null,
            "bottom": null,
            "_model_module": "@jupyter-widgets/base",
            "top": null,
            "grid_column": null,
            "overflow_y": null,
            "overflow_x": null,
            "grid_auto_flow": null,
            "grid_area": null,
            "grid_template_columns": null,
            "flex": null,
            "_model_name": "LayoutModel",
            "justify_items": null,
            "grid_row": null,
            "max_height": null,
            "align_content": null,
            "visibility": null,
            "align_self": null,
            "height": null,
            "min_height": null,
            "padding": null,
            "grid_auto_rows": null,
            "grid_gap": null,
            "max_width": null,
            "order": null,
            "_view_module_version": "1.2.0",
            "grid_template_areas": null,
            "object_position": null,
            "object_fit": null,
            "grid_auto_columns": null,
            "margin": null,
            "display": null,
            "left": null
          }
        },
        "795ab3681d0648219da2b1f732ddf4f5": {
          "model_module": "@jupyter-widgets/controls",
          "model_name": "HBoxModel",
          "model_module_version": "1.5.0",
          "state": {
            "_view_name": "HBoxView",
            "_dom_classes": [],
            "_model_name": "HBoxModel",
            "_view_module": "@jupyter-widgets/controls",
            "_model_module_version": "1.5.0",
            "_view_count": null,
            "_view_module_version": "1.5.0",
            "box_style": "",
            "layout": "IPY_MODEL_b876928cc56346618966b6891b78ee4e",
            "_model_module": "@jupyter-widgets/controls",
            "children": [
              "IPY_MODEL_b4f451ff033246a5ade525abce08554d",
              "IPY_MODEL_8bd5c09f8c484ada997247e161ec6e35",
              "IPY_MODEL_31a4f1a70b2d446e85f08a2b02d5e371"
            ]
          }
        },
        "b876928cc56346618966b6891b78ee4e": {
          "model_module": "@jupyter-widgets/base",
          "model_name": "LayoutModel",
          "model_module_version": "1.2.0",
          "state": {
            "_view_name": "LayoutView",
            "grid_template_rows": null,
            "right": null,
            "justify_content": null,
            "_view_module": "@jupyter-widgets/base",
            "overflow": null,
            "_model_module_version": "1.2.0",
            "_view_count": null,
            "flex_flow": null,
            "width": null,
            "min_width": null,
            "border": null,
            "align_items": null,
            "bottom": null,
            "_model_module": "@jupyter-widgets/base",
            "top": null,
            "grid_column": null,
            "overflow_y": null,
            "overflow_x": null,
            "grid_auto_flow": null,
            "grid_area": null,
            "grid_template_columns": null,
            "flex": null,
            "_model_name": "LayoutModel",
            "justify_items": null,
            "grid_row": null,
            "max_height": null,
            "align_content": null,
            "visibility": null,
            "align_self": null,
            "height": null,
            "min_height": null,
            "padding": null,
            "grid_auto_rows": null,
            "grid_gap": null,
            "max_width": null,
            "order": null,
            "_view_module_version": "1.2.0",
            "grid_template_areas": null,
            "object_position": null,
            "object_fit": null,
            "grid_auto_columns": null,
            "margin": null,
            "display": null,
            "left": null
          }
        },
        "b4f451ff033246a5ade525abce08554d": {
          "model_module": "@jupyter-widgets/controls",
          "model_name": "HTMLModel",
          "model_module_version": "1.5.0",
          "state": {
            "_view_name": "HTMLView",
            "style": "IPY_MODEL_9e1ebb7436264b50b6a4c0f64ba94cba",
            "_dom_classes": [],
            "description": "",
            "_model_name": "HTMLModel",
            "placeholder": "​",
            "_view_module": "@jupyter-widgets/controls",
            "_model_module_version": "1.5.0",
            "value": "100%",
            "_view_count": null,
            "_view_module_version": "1.5.0",
            "description_tooltip": null,
            "_model_module": "@jupyter-widgets/controls",
            "layout": "IPY_MODEL_717bcc3f741a4784b7da50e0b47bc4a3"
          }
        },
        "8bd5c09f8c484ada997247e161ec6e35": {
          "model_module": "@jupyter-widgets/controls",
          "model_name": "FloatProgressModel",
          "model_module_version": "1.5.0",
          "state": {
            "_view_name": "ProgressView",
            "style": "IPY_MODEL_68c55c50680d40e7b65b33fd45311b8c",
            "_dom_classes": [],
            "description": "",
            "_model_name": "FloatProgressModel",
            "bar_style": "success",
            "max": 154,
            "_view_module": "@jupyter-widgets/controls",
            "_model_module_version": "1.5.0",
            "value": 154,
            "_view_count": null,
            "_view_module_version": "1.5.0",
            "orientation": "horizontal",
            "min": 0,
            "description_tooltip": null,
            "_model_module": "@jupyter-widgets/controls",
            "layout": "IPY_MODEL_a3510a0d1bc54c768c9d01f803e3c2c6"
          }
        },
        "31a4f1a70b2d446e85f08a2b02d5e371": {
          "model_module": "@jupyter-widgets/controls",
          "model_name": "HTMLModel",
          "model_module_version": "1.5.0",
          "state": {
            "_view_name": "HTMLView",
            "style": "IPY_MODEL_edb3cc841b0047ff890f22fccd952cf6",
            "_dom_classes": [],
            "description": "",
            "_model_name": "HTMLModel",
            "placeholder": "​",
            "_view_module": "@jupyter-widgets/controls",
            "_model_module_version": "1.5.0",
            "value": " 154/154 [00:06&lt;00:00, 21.36it/s]",
            "_view_count": null,
            "_view_module_version": "1.5.0",
            "description_tooltip": null,
            "_model_module": "@jupyter-widgets/controls",
            "layout": "IPY_MODEL_783867161c4341e9b1c0c9572fa175af"
          }
        },
        "9e1ebb7436264b50b6a4c0f64ba94cba": {
          "model_module": "@jupyter-widgets/controls",
          "model_name": "DescriptionStyleModel",
          "model_module_version": "1.5.0",
          "state": {
            "_view_name": "StyleView",
            "_model_name": "DescriptionStyleModel",
            "description_width": "",
            "_view_module": "@jupyter-widgets/base",
            "_model_module_version": "1.5.0",
            "_view_count": null,
            "_view_module_version": "1.2.0",
            "_model_module": "@jupyter-widgets/controls"
          }
        },
        "717bcc3f741a4784b7da50e0b47bc4a3": {
          "model_module": "@jupyter-widgets/base",
          "model_name": "LayoutModel",
          "model_module_version": "1.2.0",
          "state": {
            "_view_name": "LayoutView",
            "grid_template_rows": null,
            "right": null,
            "justify_content": null,
            "_view_module": "@jupyter-widgets/base",
            "overflow": null,
            "_model_module_version": "1.2.0",
            "_view_count": null,
            "flex_flow": null,
            "width": null,
            "min_width": null,
            "border": null,
            "align_items": null,
            "bottom": null,
            "_model_module": "@jupyter-widgets/base",
            "top": null,
            "grid_column": null,
            "overflow_y": null,
            "overflow_x": null,
            "grid_auto_flow": null,
            "grid_area": null,
            "grid_template_columns": null,
            "flex": null,
            "_model_name": "LayoutModel",
            "justify_items": null,
            "grid_row": null,
            "max_height": null,
            "align_content": null,
            "visibility": null,
            "align_self": null,
            "height": null,
            "min_height": null,
            "padding": null,
            "grid_auto_rows": null,
            "grid_gap": null,
            "max_width": null,
            "order": null,
            "_view_module_version": "1.2.0",
            "grid_template_areas": null,
            "object_position": null,
            "object_fit": null,
            "grid_auto_columns": null,
            "margin": null,
            "display": null,
            "left": null
          }
        },
        "68c55c50680d40e7b65b33fd45311b8c": {
          "model_module": "@jupyter-widgets/controls",
          "model_name": "ProgressStyleModel",
          "model_module_version": "1.5.0",
          "state": {
            "_view_name": "StyleView",
            "_model_name": "ProgressStyleModel",
            "description_width": "",
            "_view_module": "@jupyter-widgets/base",
            "_model_module_version": "1.5.0",
            "_view_count": null,
            "_view_module_version": "1.2.0",
            "bar_color": null,
            "_model_module": "@jupyter-widgets/controls"
          }
        },
        "a3510a0d1bc54c768c9d01f803e3c2c6": {
          "model_module": "@jupyter-widgets/base",
          "model_name": "LayoutModel",
          "model_module_version": "1.2.0",
          "state": {
            "_view_name": "LayoutView",
            "grid_template_rows": null,
            "right": null,
            "justify_content": null,
            "_view_module": "@jupyter-widgets/base",
            "overflow": null,
            "_model_module_version": "1.2.0",
            "_view_count": null,
            "flex_flow": null,
            "width": null,
            "min_width": null,
            "border": null,
            "align_items": null,
            "bottom": null,
            "_model_module": "@jupyter-widgets/base",
            "top": null,
            "grid_column": null,
            "overflow_y": null,
            "overflow_x": null,
            "grid_auto_flow": null,
            "grid_area": null,
            "grid_template_columns": null,
            "flex": null,
            "_model_name": "LayoutModel",
            "justify_items": null,
            "grid_row": null,
            "max_height": null,
            "align_content": null,
            "visibility": null,
            "align_self": null,
            "height": null,
            "min_height": null,
            "padding": null,
            "grid_auto_rows": null,
            "grid_gap": null,
            "max_width": null,
            "order": null,
            "_view_module_version": "1.2.0",
            "grid_template_areas": null,
            "object_position": null,
            "object_fit": null,
            "grid_auto_columns": null,
            "margin": null,
            "display": null,
            "left": null
          }
        },
        "edb3cc841b0047ff890f22fccd952cf6": {
          "model_module": "@jupyter-widgets/controls",
          "model_name": "DescriptionStyleModel",
          "model_module_version": "1.5.0",
          "state": {
            "_view_name": "StyleView",
            "_model_name": "DescriptionStyleModel",
            "description_width": "",
            "_view_module": "@jupyter-widgets/base",
            "_model_module_version": "1.5.0",
            "_view_count": null,
            "_view_module_version": "1.2.0",
            "_model_module": "@jupyter-widgets/controls"
          }
        },
        "783867161c4341e9b1c0c9572fa175af": {
          "model_module": "@jupyter-widgets/base",
          "model_name": "LayoutModel",
          "model_module_version": "1.2.0",
          "state": {
            "_view_name": "LayoutView",
            "grid_template_rows": null,
            "right": null,
            "justify_content": null,
            "_view_module": "@jupyter-widgets/base",
            "overflow": null,
            "_model_module_version": "1.2.0",
            "_view_count": null,
            "flex_flow": null,
            "width": null,
            "min_width": null,
            "border": null,
            "align_items": null,
            "bottom": null,
            "_model_module": "@jupyter-widgets/base",
            "top": null,
            "grid_column": null,
            "overflow_y": null,
            "overflow_x": null,
            "grid_auto_flow": null,
            "grid_area": null,
            "grid_template_columns": null,
            "flex": null,
            "_model_name": "LayoutModel",
            "justify_items": null,
            "grid_row": null,
            "max_height": null,
            "align_content": null,
            "visibility": null,
            "align_self": null,
            "height": null,
            "min_height": null,
            "padding": null,
            "grid_auto_rows": null,
            "grid_gap": null,
            "max_width": null,
            "order": null,
            "_view_module_version": "1.2.0",
            "grid_template_areas": null,
            "object_position": null,
            "object_fit": null,
            "grid_auto_columns": null,
            "margin": null,
            "display": null,
            "left": null
          }
        },
        "ad91c63ecaf6441195760c6b3798f915": {
          "model_module": "@jupyter-widgets/controls",
          "model_name": "HBoxModel",
          "model_module_version": "1.5.0",
          "state": {
            "_view_name": "HBoxView",
            "_dom_classes": [],
            "_model_name": "HBoxModel",
            "_view_module": "@jupyter-widgets/controls",
            "_model_module_version": "1.5.0",
            "_view_count": null,
            "_view_module_version": "1.5.0",
            "box_style": "",
            "layout": "IPY_MODEL_3f15d7b3cf024440a0113a5bbea28218",
            "_model_module": "@jupyter-widgets/controls",
            "children": [
              "IPY_MODEL_3690f54808c74148996a693049f60b5d",
              "IPY_MODEL_d1a23d21cf6a4ea687c86263f8e55a1f",
              "IPY_MODEL_b3f2af878365425489a65be715ddceaf"
            ]
          }
        },
        "3f15d7b3cf024440a0113a5bbea28218": {
          "model_module": "@jupyter-widgets/base",
          "model_name": "LayoutModel",
          "model_module_version": "1.2.0",
          "state": {
            "_view_name": "LayoutView",
            "grid_template_rows": null,
            "right": null,
            "justify_content": null,
            "_view_module": "@jupyter-widgets/base",
            "overflow": null,
            "_model_module_version": "1.2.0",
            "_view_count": null,
            "flex_flow": null,
            "width": null,
            "min_width": null,
            "border": null,
            "align_items": null,
            "bottom": null,
            "_model_module": "@jupyter-widgets/base",
            "top": null,
            "grid_column": null,
            "overflow_y": null,
            "overflow_x": null,
            "grid_auto_flow": null,
            "grid_area": null,
            "grid_template_columns": null,
            "flex": null,
            "_model_name": "LayoutModel",
            "justify_items": null,
            "grid_row": null,
            "max_height": null,
            "align_content": null,
            "visibility": null,
            "align_self": null,
            "height": null,
            "min_height": null,
            "padding": null,
            "grid_auto_rows": null,
            "grid_gap": null,
            "max_width": null,
            "order": null,
            "_view_module_version": "1.2.0",
            "grid_template_areas": null,
            "object_position": null,
            "object_fit": null,
            "grid_auto_columns": null,
            "margin": null,
            "display": null,
            "left": null
          }
        },
        "3690f54808c74148996a693049f60b5d": {
          "model_module": "@jupyter-widgets/controls",
          "model_name": "HTMLModel",
          "model_module_version": "1.5.0",
          "state": {
            "_view_name": "HTMLView",
            "style": "IPY_MODEL_9aa7a4dc98964720b2b8dbe34fc93f70",
            "_dom_classes": [],
            "description": "",
            "_model_name": "HTMLModel",
            "placeholder": "​",
            "_view_module": "@jupyter-widgets/controls",
            "_model_module_version": "1.5.0",
            "value": "100%",
            "_view_count": null,
            "_view_module_version": "1.5.0",
            "description_tooltip": null,
            "_model_module": "@jupyter-widgets/controls",
            "layout": "IPY_MODEL_eeb2e50abdeb496e91c492e854cff5b3"
          }
        },
        "d1a23d21cf6a4ea687c86263f8e55a1f": {
          "model_module": "@jupyter-widgets/controls",
          "model_name": "FloatProgressModel",
          "model_module_version": "1.5.0",
          "state": {
            "_view_name": "ProgressView",
            "style": "IPY_MODEL_4ddd0a7f36e4460eb241a4abe9075b38",
            "_dom_classes": [],
            "description": "",
            "_model_name": "FloatProgressModel",
            "bar_style": "success",
            "max": 461,
            "_view_module": "@jupyter-widgets/controls",
            "_model_module_version": "1.5.0",
            "value": 461,
            "_view_count": null,
            "_view_module_version": "1.5.0",
            "orientation": "horizontal",
            "min": 0,
            "description_tooltip": null,
            "_model_module": "@jupyter-widgets/controls",
            "layout": "IPY_MODEL_e30ae4526f59493ea09338af98ce556f"
          }
        },
        "b3f2af878365425489a65be715ddceaf": {
          "model_module": "@jupyter-widgets/controls",
          "model_name": "HTMLModel",
          "model_module_version": "1.5.0",
          "state": {
            "_view_name": "HTMLView",
            "style": "IPY_MODEL_b3e7c6a29aec42e5a6a0c12f95f5e450",
            "_dom_classes": [],
            "description": "",
            "_model_name": "HTMLModel",
            "placeholder": "​",
            "_view_module": "@jupyter-widgets/controls",
            "_model_module_version": "1.5.0",
            "value": " 461/461 [01:02&lt;00:00,  7.36it/s]",
            "_view_count": null,
            "_view_module_version": "1.5.0",
            "description_tooltip": null,
            "_model_module": "@jupyter-widgets/controls",
            "layout": "IPY_MODEL_6d195bbccc724a638856b4a67d18bd74"
          }
        },
        "9aa7a4dc98964720b2b8dbe34fc93f70": {
          "model_module": "@jupyter-widgets/controls",
          "model_name": "DescriptionStyleModel",
          "model_module_version": "1.5.0",
          "state": {
            "_view_name": "StyleView",
            "_model_name": "DescriptionStyleModel",
            "description_width": "",
            "_view_module": "@jupyter-widgets/base",
            "_model_module_version": "1.5.0",
            "_view_count": null,
            "_view_module_version": "1.2.0",
            "_model_module": "@jupyter-widgets/controls"
          }
        },
        "eeb2e50abdeb496e91c492e854cff5b3": {
          "model_module": "@jupyter-widgets/base",
          "model_name": "LayoutModel",
          "model_module_version": "1.2.0",
          "state": {
            "_view_name": "LayoutView",
            "grid_template_rows": null,
            "right": null,
            "justify_content": null,
            "_view_module": "@jupyter-widgets/base",
            "overflow": null,
            "_model_module_version": "1.2.0",
            "_view_count": null,
            "flex_flow": null,
            "width": null,
            "min_width": null,
            "border": null,
            "align_items": null,
            "bottom": null,
            "_model_module": "@jupyter-widgets/base",
            "top": null,
            "grid_column": null,
            "overflow_y": null,
            "overflow_x": null,
            "grid_auto_flow": null,
            "grid_area": null,
            "grid_template_columns": null,
            "flex": null,
            "_model_name": "LayoutModel",
            "justify_items": null,
            "grid_row": null,
            "max_height": null,
            "align_content": null,
            "visibility": null,
            "align_self": null,
            "height": null,
            "min_height": null,
            "padding": null,
            "grid_auto_rows": null,
            "grid_gap": null,
            "max_width": null,
            "order": null,
            "_view_module_version": "1.2.0",
            "grid_template_areas": null,
            "object_position": null,
            "object_fit": null,
            "grid_auto_columns": null,
            "margin": null,
            "display": null,
            "left": null
          }
        },
        "4ddd0a7f36e4460eb241a4abe9075b38": {
          "model_module": "@jupyter-widgets/controls",
          "model_name": "ProgressStyleModel",
          "model_module_version": "1.5.0",
          "state": {
            "_view_name": "StyleView",
            "_model_name": "ProgressStyleModel",
            "description_width": "",
            "_view_module": "@jupyter-widgets/base",
            "_model_module_version": "1.5.0",
            "_view_count": null,
            "_view_module_version": "1.2.0",
            "bar_color": null,
            "_model_module": "@jupyter-widgets/controls"
          }
        },
        "e30ae4526f59493ea09338af98ce556f": {
          "model_module": "@jupyter-widgets/base",
          "model_name": "LayoutModel",
          "model_module_version": "1.2.0",
          "state": {
            "_view_name": "LayoutView",
            "grid_template_rows": null,
            "right": null,
            "justify_content": null,
            "_view_module": "@jupyter-widgets/base",
            "overflow": null,
            "_model_module_version": "1.2.0",
            "_view_count": null,
            "flex_flow": null,
            "width": null,
            "min_width": null,
            "border": null,
            "align_items": null,
            "bottom": null,
            "_model_module": "@jupyter-widgets/base",
            "top": null,
            "grid_column": null,
            "overflow_y": null,
            "overflow_x": null,
            "grid_auto_flow": null,
            "grid_area": null,
            "grid_template_columns": null,
            "flex": null,
            "_model_name": "LayoutModel",
            "justify_items": null,
            "grid_row": null,
            "max_height": null,
            "align_content": null,
            "visibility": null,
            "align_self": null,
            "height": null,
            "min_height": null,
            "padding": null,
            "grid_auto_rows": null,
            "grid_gap": null,
            "max_width": null,
            "order": null,
            "_view_module_version": "1.2.0",
            "grid_template_areas": null,
            "object_position": null,
            "object_fit": null,
            "grid_auto_columns": null,
            "margin": null,
            "display": null,
            "left": null
          }
        },
        "b3e7c6a29aec42e5a6a0c12f95f5e450": {
          "model_module": "@jupyter-widgets/controls",
          "model_name": "DescriptionStyleModel",
          "model_module_version": "1.5.0",
          "state": {
            "_view_name": "StyleView",
            "_model_name": "DescriptionStyleModel",
            "description_width": "",
            "_view_module": "@jupyter-widgets/base",
            "_model_module_version": "1.5.0",
            "_view_count": null,
            "_view_module_version": "1.2.0",
            "_model_module": "@jupyter-widgets/controls"
          }
        },
        "6d195bbccc724a638856b4a67d18bd74": {
          "model_module": "@jupyter-widgets/base",
          "model_name": "LayoutModel",
          "model_module_version": "1.2.0",
          "state": {
            "_view_name": "LayoutView",
            "grid_template_rows": null,
            "right": null,
            "justify_content": null,
            "_view_module": "@jupyter-widgets/base",
            "overflow": null,
            "_model_module_version": "1.2.0",
            "_view_count": null,
            "flex_flow": null,
            "width": null,
            "min_width": null,
            "border": null,
            "align_items": null,
            "bottom": null,
            "_model_module": "@jupyter-widgets/base",
            "top": null,
            "grid_column": null,
            "overflow_y": null,
            "overflow_x": null,
            "grid_auto_flow": null,
            "grid_area": null,
            "grid_template_columns": null,
            "flex": null,
            "_model_name": "LayoutModel",
            "justify_items": null,
            "grid_row": null,
            "max_height": null,
            "align_content": null,
            "visibility": null,
            "align_self": null,
            "height": null,
            "min_height": null,
            "padding": null,
            "grid_auto_rows": null,
            "grid_gap": null,
            "max_width": null,
            "order": null,
            "_view_module_version": "1.2.0",
            "grid_template_areas": null,
            "object_position": null,
            "object_fit": null,
            "grid_auto_columns": null,
            "margin": null,
            "display": null,
            "left": null
          }
        },
        "b7742a98f04f4344ae4ca337927fb7cf": {
          "model_module": "@jupyter-widgets/controls",
          "model_name": "HBoxModel",
          "model_module_version": "1.5.0",
          "state": {
            "_view_name": "HBoxView",
            "_dom_classes": [],
            "_model_name": "HBoxModel",
            "_view_module": "@jupyter-widgets/controls",
            "_model_module_version": "1.5.0",
            "_view_count": null,
            "_view_module_version": "1.5.0",
            "box_style": "",
            "layout": "IPY_MODEL_bdadc16463c54b4f82f1c66f62121b88",
            "_model_module": "@jupyter-widgets/controls",
            "children": [
              "IPY_MODEL_9eca1108f27a41eeaec641722854ac53",
              "IPY_MODEL_153c5fd4bbd24ac88fce2c8011659bfa",
              "IPY_MODEL_1443108a8ce44ca9bb4b08cf1fcdae27"
            ]
          }
        },
        "bdadc16463c54b4f82f1c66f62121b88": {
          "model_module": "@jupyter-widgets/base",
          "model_name": "LayoutModel",
          "model_module_version": "1.2.0",
          "state": {
            "_view_name": "LayoutView",
            "grid_template_rows": null,
            "right": null,
            "justify_content": null,
            "_view_module": "@jupyter-widgets/base",
            "overflow": null,
            "_model_module_version": "1.2.0",
            "_view_count": null,
            "flex_flow": null,
            "width": null,
            "min_width": null,
            "border": null,
            "align_items": null,
            "bottom": null,
            "_model_module": "@jupyter-widgets/base",
            "top": null,
            "grid_column": null,
            "overflow_y": null,
            "overflow_x": null,
            "grid_auto_flow": null,
            "grid_area": null,
            "grid_template_columns": null,
            "flex": null,
            "_model_name": "LayoutModel",
            "justify_items": null,
            "grid_row": null,
            "max_height": null,
            "align_content": null,
            "visibility": null,
            "align_self": null,
            "height": null,
            "min_height": null,
            "padding": null,
            "grid_auto_rows": null,
            "grid_gap": null,
            "max_width": null,
            "order": null,
            "_view_module_version": "1.2.0",
            "grid_template_areas": null,
            "object_position": null,
            "object_fit": null,
            "grid_auto_columns": null,
            "margin": null,
            "display": null,
            "left": null
          }
        },
        "9eca1108f27a41eeaec641722854ac53": {
          "model_module": "@jupyter-widgets/controls",
          "model_name": "HTMLModel",
          "model_module_version": "1.5.0",
          "state": {
            "_view_name": "HTMLView",
            "style": "IPY_MODEL_0e507a9b0ffc4ac2af4efce6edd5bdcb",
            "_dom_classes": [],
            "description": "",
            "_model_name": "HTMLModel",
            "placeholder": "​",
            "_view_module": "@jupyter-widgets/controls",
            "_model_module_version": "1.5.0",
            "value": "100%",
            "_view_count": null,
            "_view_module_version": "1.5.0",
            "description_tooltip": null,
            "_model_module": "@jupyter-widgets/controls",
            "layout": "IPY_MODEL_1d1d96820da743eb9bc65bcb84858bf6"
          }
        },
        "153c5fd4bbd24ac88fce2c8011659bfa": {
          "model_module": "@jupyter-widgets/controls",
          "model_name": "FloatProgressModel",
          "model_module_version": "1.5.0",
          "state": {
            "_view_name": "ProgressView",
            "style": "IPY_MODEL_12352992bc854bc79773accaa4ace512",
            "_dom_classes": [],
            "description": "",
            "_model_name": "FloatProgressModel",
            "bar_style": "success",
            "max": 154,
            "_view_module": "@jupyter-widgets/controls",
            "_model_module_version": "1.5.0",
            "value": 154,
            "_view_count": null,
            "_view_module_version": "1.5.0",
            "orientation": "horizontal",
            "min": 0,
            "description_tooltip": null,
            "_model_module": "@jupyter-widgets/controls",
            "layout": "IPY_MODEL_41826ce10e5942f99f6c2ceb693bbb9b"
          }
        },
        "1443108a8ce44ca9bb4b08cf1fcdae27": {
          "model_module": "@jupyter-widgets/controls",
          "model_name": "HTMLModel",
          "model_module_version": "1.5.0",
          "state": {
            "_view_name": "HTMLView",
            "style": "IPY_MODEL_463b6bdc67ad430392c5ad9be389bcb7",
            "_dom_classes": [],
            "description": "",
            "_model_name": "HTMLModel",
            "placeholder": "​",
            "_view_module": "@jupyter-widgets/controls",
            "_model_module_version": "1.5.0",
            "value": " 154/154 [00:06&lt;00:00, 22.02it/s]",
            "_view_count": null,
            "_view_module_version": "1.5.0",
            "description_tooltip": null,
            "_model_module": "@jupyter-widgets/controls",
            "layout": "IPY_MODEL_aec12215e87f43d49a8cf67c28e22789"
          }
        },
        "0e507a9b0ffc4ac2af4efce6edd5bdcb": {
          "model_module": "@jupyter-widgets/controls",
          "model_name": "DescriptionStyleModel",
          "model_module_version": "1.5.0",
          "state": {
            "_view_name": "StyleView",
            "_model_name": "DescriptionStyleModel",
            "description_width": "",
            "_view_module": "@jupyter-widgets/base",
            "_model_module_version": "1.5.0",
            "_view_count": null,
            "_view_module_version": "1.2.0",
            "_model_module": "@jupyter-widgets/controls"
          }
        },
        "1d1d96820da743eb9bc65bcb84858bf6": {
          "model_module": "@jupyter-widgets/base",
          "model_name": "LayoutModel",
          "model_module_version": "1.2.0",
          "state": {
            "_view_name": "LayoutView",
            "grid_template_rows": null,
            "right": null,
            "justify_content": null,
            "_view_module": "@jupyter-widgets/base",
            "overflow": null,
            "_model_module_version": "1.2.0",
            "_view_count": null,
            "flex_flow": null,
            "width": null,
            "min_width": null,
            "border": null,
            "align_items": null,
            "bottom": null,
            "_model_module": "@jupyter-widgets/base",
            "top": null,
            "grid_column": null,
            "overflow_y": null,
            "overflow_x": null,
            "grid_auto_flow": null,
            "grid_area": null,
            "grid_template_columns": null,
            "flex": null,
            "_model_name": "LayoutModel",
            "justify_items": null,
            "grid_row": null,
            "max_height": null,
            "align_content": null,
            "visibility": null,
            "align_self": null,
            "height": null,
            "min_height": null,
            "padding": null,
            "grid_auto_rows": null,
            "grid_gap": null,
            "max_width": null,
            "order": null,
            "_view_module_version": "1.2.0",
            "grid_template_areas": null,
            "object_position": null,
            "object_fit": null,
            "grid_auto_columns": null,
            "margin": null,
            "display": null,
            "left": null
          }
        },
        "12352992bc854bc79773accaa4ace512": {
          "model_module": "@jupyter-widgets/controls",
          "model_name": "ProgressStyleModel",
          "model_module_version": "1.5.0",
          "state": {
            "_view_name": "StyleView",
            "_model_name": "ProgressStyleModel",
            "description_width": "",
            "_view_module": "@jupyter-widgets/base",
            "_model_module_version": "1.5.0",
            "_view_count": null,
            "_view_module_version": "1.2.0",
            "bar_color": null,
            "_model_module": "@jupyter-widgets/controls"
          }
        },
        "41826ce10e5942f99f6c2ceb693bbb9b": {
          "model_module": "@jupyter-widgets/base",
          "model_name": "LayoutModel",
          "model_module_version": "1.2.0",
          "state": {
            "_view_name": "LayoutView",
            "grid_template_rows": null,
            "right": null,
            "justify_content": null,
            "_view_module": "@jupyter-widgets/base",
            "overflow": null,
            "_model_module_version": "1.2.0",
            "_view_count": null,
            "flex_flow": null,
            "width": null,
            "min_width": null,
            "border": null,
            "align_items": null,
            "bottom": null,
            "_model_module": "@jupyter-widgets/base",
            "top": null,
            "grid_column": null,
            "overflow_y": null,
            "overflow_x": null,
            "grid_auto_flow": null,
            "grid_area": null,
            "grid_template_columns": null,
            "flex": null,
            "_model_name": "LayoutModel",
            "justify_items": null,
            "grid_row": null,
            "max_height": null,
            "align_content": null,
            "visibility": null,
            "align_self": null,
            "height": null,
            "min_height": null,
            "padding": null,
            "grid_auto_rows": null,
            "grid_gap": null,
            "max_width": null,
            "order": null,
            "_view_module_version": "1.2.0",
            "grid_template_areas": null,
            "object_position": null,
            "object_fit": null,
            "grid_auto_columns": null,
            "margin": null,
            "display": null,
            "left": null
          }
        },
        "463b6bdc67ad430392c5ad9be389bcb7": {
          "model_module": "@jupyter-widgets/controls",
          "model_name": "DescriptionStyleModel",
          "model_module_version": "1.5.0",
          "state": {
            "_view_name": "StyleView",
            "_model_name": "DescriptionStyleModel",
            "description_width": "",
            "_view_module": "@jupyter-widgets/base",
            "_model_module_version": "1.5.0",
            "_view_count": null,
            "_view_module_version": "1.2.0",
            "_model_module": "@jupyter-widgets/controls"
          }
        },
        "aec12215e87f43d49a8cf67c28e22789": {
          "model_module": "@jupyter-widgets/base",
          "model_name": "LayoutModel",
          "model_module_version": "1.2.0",
          "state": {
            "_view_name": "LayoutView",
            "grid_template_rows": null,
            "right": null,
            "justify_content": null,
            "_view_module": "@jupyter-widgets/base",
            "overflow": null,
            "_model_module_version": "1.2.0",
            "_view_count": null,
            "flex_flow": null,
            "width": null,
            "min_width": null,
            "border": null,
            "align_items": null,
            "bottom": null,
            "_model_module": "@jupyter-widgets/base",
            "top": null,
            "grid_column": null,
            "overflow_y": null,
            "overflow_x": null,
            "grid_auto_flow": null,
            "grid_area": null,
            "grid_template_columns": null,
            "flex": null,
            "_model_name": "LayoutModel",
            "justify_items": null,
            "grid_row": null,
            "max_height": null,
            "align_content": null,
            "visibility": null,
            "align_self": null,
            "height": null,
            "min_height": null,
            "padding": null,
            "grid_auto_rows": null,
            "grid_gap": null,
            "max_width": null,
            "order": null,
            "_view_module_version": "1.2.0",
            "grid_template_areas": null,
            "object_position": null,
            "object_fit": null,
            "grid_auto_columns": null,
            "margin": null,
            "display": null,
            "left": null
          }
        },
        "ca97056e5ece4fc2935df36d4b57c03d": {
          "model_module": "@jupyter-widgets/controls",
          "model_name": "HBoxModel",
          "model_module_version": "1.5.0",
          "state": {
            "_view_name": "HBoxView",
            "_dom_classes": [],
            "_model_name": "HBoxModel",
            "_view_module": "@jupyter-widgets/controls",
            "_model_module_version": "1.5.0",
            "_view_count": null,
            "_view_module_version": "1.5.0",
            "box_style": "",
            "layout": "IPY_MODEL_f6be721f5292429abf69469f9ef2a47c",
            "_model_module": "@jupyter-widgets/controls",
            "children": [
              "IPY_MODEL_c7715fb9a31f4939b96c6ce6d66febb0",
              "IPY_MODEL_eea4b93977014b9799b4c0ffdf79b37f",
              "IPY_MODEL_ca4453d00a244f9a9fa4e9125ec54082"
            ]
          }
        },
        "f6be721f5292429abf69469f9ef2a47c": {
          "model_module": "@jupyter-widgets/base",
          "model_name": "LayoutModel",
          "model_module_version": "1.2.0",
          "state": {
            "_view_name": "LayoutView",
            "grid_template_rows": null,
            "right": null,
            "justify_content": null,
            "_view_module": "@jupyter-widgets/base",
            "overflow": null,
            "_model_module_version": "1.2.0",
            "_view_count": null,
            "flex_flow": null,
            "width": null,
            "min_width": null,
            "border": null,
            "align_items": null,
            "bottom": null,
            "_model_module": "@jupyter-widgets/base",
            "top": null,
            "grid_column": null,
            "overflow_y": null,
            "overflow_x": null,
            "grid_auto_flow": null,
            "grid_area": null,
            "grid_template_columns": null,
            "flex": null,
            "_model_name": "LayoutModel",
            "justify_items": null,
            "grid_row": null,
            "max_height": null,
            "align_content": null,
            "visibility": null,
            "align_self": null,
            "height": null,
            "min_height": null,
            "padding": null,
            "grid_auto_rows": null,
            "grid_gap": null,
            "max_width": null,
            "order": null,
            "_view_module_version": "1.2.0",
            "grid_template_areas": null,
            "object_position": null,
            "object_fit": null,
            "grid_auto_columns": null,
            "margin": null,
            "display": null,
            "left": null
          }
        },
        "c7715fb9a31f4939b96c6ce6d66febb0": {
          "model_module": "@jupyter-widgets/controls",
          "model_name": "HTMLModel",
          "model_module_version": "1.5.0",
          "state": {
            "_view_name": "HTMLView",
            "style": "IPY_MODEL_42c37432c2da4427bcf2572948377b57",
            "_dom_classes": [],
            "description": "",
            "_model_name": "HTMLModel",
            "placeholder": "​",
            "_view_module": "@jupyter-widgets/controls",
            "_model_module_version": "1.5.0",
            "value": "",
            "_view_count": null,
            "_view_module_version": "1.5.0",
            "description_tooltip": null,
            "_model_module": "@jupyter-widgets/controls",
            "layout": "IPY_MODEL_a60756fc59a0441a8a3ba37f0d5b5ad6"
          }
        },
        "eea4b93977014b9799b4c0ffdf79b37f": {
          "model_module": "@jupyter-widgets/controls",
          "model_name": "FloatProgressModel",
          "model_module_version": "1.5.0",
          "state": {
            "_view_name": "ProgressView",
            "style": "IPY_MODEL_14480fff763c48fdbee8d57951942e6b",
            "_dom_classes": [],
            "description": "",
            "_model_name": "FloatProgressModel",
            "bar_style": "success",
            "max": 1,
            "_view_module": "@jupyter-widgets/controls",
            "_model_module_version": "1.5.0",
            "value": 0,
            "_view_count": null,
            "_view_module_version": "1.5.0",
            "orientation": "horizontal",
            "min": 0,
            "description_tooltip": null,
            "_model_module": "@jupyter-widgets/controls",
            "layout": "IPY_MODEL_dfe356de2a5748c69860e6ec426be5bc"
          }
        },
        "ca4453d00a244f9a9fa4e9125ec54082": {
          "model_module": "@jupyter-widgets/controls",
          "model_name": "HTMLModel",
          "model_module_version": "1.5.0",
          "state": {
            "_view_name": "HTMLView",
            "style": "IPY_MODEL_fc7d0b266d0540708405ab9352e7f31b",
            "_dom_classes": [],
            "description": "",
            "_model_name": "HTMLModel",
            "placeholder": "​",
            "_view_module": "@jupyter-widgets/controls",
            "_model_module_version": "1.5.0",
            "value": " 0/0 [00:00&lt;?, ?it/s]",
            "_view_count": null,
            "_view_module_version": "1.5.0",
            "description_tooltip": null,
            "_model_module": "@jupyter-widgets/controls",
            "layout": "IPY_MODEL_5fe87805abe443e19abfbb5465ab9bec"
          }
        },
        "42c37432c2da4427bcf2572948377b57": {
          "model_module": "@jupyter-widgets/controls",
          "model_name": "DescriptionStyleModel",
          "model_module_version": "1.5.0",
          "state": {
            "_view_name": "StyleView",
            "_model_name": "DescriptionStyleModel",
            "description_width": "",
            "_view_module": "@jupyter-widgets/base",
            "_model_module_version": "1.5.0",
            "_view_count": null,
            "_view_module_version": "1.2.0",
            "_model_module": "@jupyter-widgets/controls"
          }
        },
        "a60756fc59a0441a8a3ba37f0d5b5ad6": {
          "model_module": "@jupyter-widgets/base",
          "model_name": "LayoutModel",
          "model_module_version": "1.2.0",
          "state": {
            "_view_name": "LayoutView",
            "grid_template_rows": null,
            "right": null,
            "justify_content": null,
            "_view_module": "@jupyter-widgets/base",
            "overflow": null,
            "_model_module_version": "1.2.0",
            "_view_count": null,
            "flex_flow": null,
            "width": null,
            "min_width": null,
            "border": null,
            "align_items": null,
            "bottom": null,
            "_model_module": "@jupyter-widgets/base",
            "top": null,
            "grid_column": null,
            "overflow_y": null,
            "overflow_x": null,
            "grid_auto_flow": null,
            "grid_area": null,
            "grid_template_columns": null,
            "flex": null,
            "_model_name": "LayoutModel",
            "justify_items": null,
            "grid_row": null,
            "max_height": null,
            "align_content": null,
            "visibility": null,
            "align_self": null,
            "height": null,
            "min_height": null,
            "padding": null,
            "grid_auto_rows": null,
            "grid_gap": null,
            "max_width": null,
            "order": null,
            "_view_module_version": "1.2.0",
            "grid_template_areas": null,
            "object_position": null,
            "object_fit": null,
            "grid_auto_columns": null,
            "margin": null,
            "display": null,
            "left": null
          }
        },
        "14480fff763c48fdbee8d57951942e6b": {
          "model_module": "@jupyter-widgets/controls",
          "model_name": "ProgressStyleModel",
          "model_module_version": "1.5.0",
          "state": {
            "_view_name": "StyleView",
            "_model_name": "ProgressStyleModel",
            "description_width": "",
            "_view_module": "@jupyter-widgets/base",
            "_model_module_version": "1.5.0",
            "_view_count": null,
            "_view_module_version": "1.2.0",
            "bar_color": null,
            "_model_module": "@jupyter-widgets/controls"
          }
        },
        "dfe356de2a5748c69860e6ec426be5bc": {
          "model_module": "@jupyter-widgets/base",
          "model_name": "LayoutModel",
          "model_module_version": "1.2.0",
          "state": {
            "_view_name": "LayoutView",
            "grid_template_rows": null,
            "right": null,
            "justify_content": null,
            "_view_module": "@jupyter-widgets/base",
            "overflow": null,
            "_model_module_version": "1.2.0",
            "_view_count": null,
            "flex_flow": null,
            "width": "20px",
            "min_width": null,
            "border": null,
            "align_items": null,
            "bottom": null,
            "_model_module": "@jupyter-widgets/base",
            "top": null,
            "grid_column": null,
            "overflow_y": null,
            "overflow_x": null,
            "grid_auto_flow": null,
            "grid_area": null,
            "grid_template_columns": null,
            "flex": null,
            "_model_name": "LayoutModel",
            "justify_items": null,
            "grid_row": null,
            "max_height": null,
            "align_content": null,
            "visibility": null,
            "align_self": null,
            "height": null,
            "min_height": null,
            "padding": null,
            "grid_auto_rows": null,
            "grid_gap": null,
            "max_width": null,
            "order": null,
            "_view_module_version": "1.2.0",
            "grid_template_areas": null,
            "object_position": null,
            "object_fit": null,
            "grid_auto_columns": null,
            "margin": null,
            "display": null,
            "left": null
          }
        },
        "fc7d0b266d0540708405ab9352e7f31b": {
          "model_module": "@jupyter-widgets/controls",
          "model_name": "DescriptionStyleModel",
          "model_module_version": "1.5.0",
          "state": {
            "_view_name": "StyleView",
            "_model_name": "DescriptionStyleModel",
            "description_width": "",
            "_view_module": "@jupyter-widgets/base",
            "_model_module_version": "1.5.0",
            "_view_count": null,
            "_view_module_version": "1.2.0",
            "_model_module": "@jupyter-widgets/controls"
          }
        },
        "5fe87805abe443e19abfbb5465ab9bec": {
          "model_module": "@jupyter-widgets/base",
          "model_name": "LayoutModel",
          "model_module_version": "1.2.0",
          "state": {
            "_view_name": "LayoutView",
            "grid_template_rows": null,
            "right": null,
            "justify_content": null,
            "_view_module": "@jupyter-widgets/base",
            "overflow": null,
            "_model_module_version": "1.2.0",
            "_view_count": null,
            "flex_flow": null,
            "width": null,
            "min_width": null,
            "border": null,
            "align_items": null,
            "bottom": null,
            "_model_module": "@jupyter-widgets/base",
            "top": null,
            "grid_column": null,
            "overflow_y": null,
            "overflow_x": null,
            "grid_auto_flow": null,
            "grid_area": null,
            "grid_template_columns": null,
            "flex": null,
            "_model_name": "LayoutModel",
            "justify_items": null,
            "grid_row": null,
            "max_height": null,
            "align_content": null,
            "visibility": null,
            "align_self": null,
            "height": null,
            "min_height": null,
            "padding": null,
            "grid_auto_rows": null,
            "grid_gap": null,
            "max_width": null,
            "order": null,
            "_view_module_version": "1.2.0",
            "grid_template_areas": null,
            "object_position": null,
            "object_fit": null,
            "grid_auto_columns": null,
            "margin": null,
            "display": null,
            "left": null
          }
        }
      }
    }
  },
  "cells": [
    {
      "cell_type": "markdown",
      "metadata": {
        "id": "B1etuKmTJZsH"
      },
      "source": [
        "## Семинар 10: \"Генерация текстов\""
      ]
    },
    {
      "cell_type": "markdown",
      "metadata": {
        "id": "ONqglHSlJZsP"
      },
      "source": [
        "ФИО: Перфильева Нелли Андреевна"
      ]
    },
    {
      "cell_type": "code",
      "metadata": {
        "id": "R0pHucITJZsQ"
      },
      "source": [
        "import numpy as np\n",
        "import re\n",
        "from torch import nn\n",
        "from torch.autograd import Variable\n",
        "import matplotlib.pyplot as plt\n",
        "import torch\n",
        "from torch.utils.data import Dataset, DataLoader\n",
        "import sys\n",
        "from IPython.display import clear_output\n",
        "from tqdm.autonotebook import tqdm\n",
        "import progressbar\n",
        "from itertools import product\n",
        "\n",
        "%matplotlib inline"
      ],
      "execution_count": null,
      "outputs": []
    },
    {
      "cell_type": "markdown",
      "metadata": {
        "id": "2bivkoUXJZsT"
      },
      "source": [
        "Этот семинар посвящен чат-ботам. Вам предстоит реализовать модель, генерирующую определенные тексты. В качестве текстов можно взять сборник цитат умных людей, предсказаний и т.д. На семинаре мы используем данные https://github.com/alvations/Quotables/blob/master/author-quote.txt\n",
        "\n",
        "При реализации задания вы можете пользоваться кодом из этого примера: <a href=https://github.com/spro/practical-pytorch/blob/master/char-rnn-generation/char-rnn-generation.ipynb>Generating Shakespeare with a Character-Level RNN</a>"
      ]
    },
    {
      "cell_type": "markdown",
      "metadata": {
        "id": "mkZmyL2cJZsU"
      },
      "source": [
        "### Часть 1: подготовка данных"
      ]
    },
    {
      "cell_type": "markdown",
      "metadata": {
        "id": "pnnhXgKOJZsU"
      },
      "source": [
        "Реализуйте датасет для дальнейшего обучения (будем использовать batch size=1)"
      ]
    },
    {
      "cell_type": "code",
      "metadata": {
        "colab": {
          "base_uri": "https://localhost:8080/"
        },
        "id": "cm7SB1AeJfyA",
        "outputId": "72ae50bc-bb87-4977-a397-9eadb94c1073"
      },
      "source": [
        "!wget https://raw.githubusercontent.com/alvations/Quotables/master/author-quote.txt"
      ],
      "execution_count": null,
      "outputs": [
        {
          "output_type": "stream",
          "name": "stdout",
          "text": [
            "--2021-11-22 13:51:10--  https://raw.githubusercontent.com/alvations/Quotables/master/author-quote.txt\n",
            "Resolving raw.githubusercontent.com (raw.githubusercontent.com)... 185.199.110.133, 185.199.111.133, 185.199.108.133, ...\n",
            "Connecting to raw.githubusercontent.com (raw.githubusercontent.com)|185.199.110.133|:443... connected.\n",
            "HTTP request sent, awaiting response... 200 OK\n",
            "Length: 5615127 (5.4M) [text/plain]\n",
            "Saving to: ‘author-quote.txt.3’\n",
            "\n",
            "author-quote.txt.3  100%[===================>]   5.35M  --.-KB/s    in 0.1s    \n",
            "\n",
            "2021-11-22 13:51:10 (55.6 MB/s) - ‘author-quote.txt.3’ saved [5615127/5615127]\n",
            "\n"
          ]
        }
      ]
    },
    {
      "cell_type": "code",
      "metadata": {
        "id": "Vz9pzN0aJZsV"
      },
      "source": [
        "lines = [\n",
        "    x.split('\\t')[1].strip() for x in open('author-quote.txt').readlines()\n",
        "]\n",
        "lines = [x.lower().replace(\".\", \"\").replace(\",\", \"\").replace(\"!\", \"\"). \\\n",
        "         replace(\"?\", \"\").replace(\"'\", \" \").replace(\"\\\"\", \"\").replace(\";\", \"\").split()  for x in lines]"
      ],
      "execution_count": null,
      "outputs": []
    },
    {
      "cell_type": "code",
      "metadata": {
        "id": "FH479O7kJZsW"
      },
      "source": [
        "lines = [\n",
        "    x.split('\\t')[1].strip().replace(\".\", \"\").replace(\",\", \"\").replace(\":\", \"\").\\\n",
        "    replace(\"\\\"\", \"\").replace(\";\", \"\").replace(\"!\", \"\").replace(\"#\", \"\").lower().split()\n",
        "    for x in open('author-quote.txt').readlines()\n",
        "]"
      ],
      "execution_count": null,
      "outputs": []
    },
    {
      "cell_type": "code",
      "metadata": {
        "colab": {
          "base_uri": "https://localhost:8080/"
        },
        "id": "2XcNCNfkJZsX",
        "outputId": "5a745f70-c44f-4550-8df8-1c5e2cac1977"
      },
      "source": [
        "lines[2:3]\n"
      ],
      "execution_count": null,
      "outputs": [
        {
          "output_type": "execute_result",
          "data": {
            "text/plain": [
              "[['did',\n",
              "  'you',\n",
              "  'ever',\n",
              "  'stop',\n",
              "  'to',\n",
              "  'think',\n",
              "  'and',\n",
              "  'forget',\n",
              "  'to',\n",
              "  'start',\n",
              "  'again?']]"
            ]
          },
          "metadata": {},
          "execution_count": 5
        }
      ]
    },
    {
      "cell_type": "code",
      "metadata": {
        "colab": {
          "base_uri": "https://localhost:8080/"
        },
        "id": "lUfAVosQJZsZ",
        "outputId": "95a6ba25-f99a-4bde-85b5-8c07de3d8dbd"
      },
      "source": [
        "len(lines)"
      ],
      "execution_count": null,
      "outputs": [
        {
          "output_type": "execute_result",
          "data": {
            "text/plain": [
              "39269"
            ]
          },
          "metadata": {},
          "execution_count": 6
        }
      ]
    },
    {
      "cell_type": "code",
      "metadata": {
        "colab": {
          "base_uri": "https://localhost:8080/",
          "height": 267
        },
        "id": "-0O7sdyGJZsa",
        "outputId": "da26b06a-d7d5-4f10-96ca-cd6a3e404fc7"
      },
      "source": [
        "plt.hist(list(map(len, lines)), bins=100);"
      ],
      "execution_count": null,
      "outputs": [
        {
          "output_type": "display_data",
          "data": {
            "image/png": "[encoded data removed]",
            "text/plain": [
              "<Figure size 432x288 with 1 Axes>"
            ]
          },
          "metadata": {
            "needs_background": "light"
          }
        }
      ]
    },
    {
      "cell_type": "code",
      "metadata": {
        "colab": {
          "base_uri": "https://localhost:8080/"
        },
        "id": "P6eGmFAyJZsb",
        "outputId": "ee572a8b-18ab-474e-9d0d-6f7e0139c9cc"
      },
      "source": [
        "np.random.seed(777)\n",
        "torch.manual_seed(777)"
      ],
      "execution_count": null,
      "outputs": [
        {
          "output_type": "execute_result",
          "data": {
            "text/plain": [
              "<torch._C.Generator at 0x7f8b58e64b70>"
            ]
          },
          "metadata": {},
          "execution_count": 8
        }
      ]
    },
    {
      "cell_type": "code",
      "metadata": {
        "id": "BBu9YF8yJZsb"
      },
      "source": [
        "class Vocabulary:\n",
        "    def __init__(self, sentences):\n",
        "        all_characters = set()\n",
        "        for line in sentences:\n",
        "            all_characters |= set(line)\n",
        "        all_characters = list(sorted(all_characters))+['<eos>', '<go>']\n",
        "        self.char_to_id = {\n",
        "            x[1]:x[0]\n",
        "            for x in enumerate(all_characters)\n",
        "        }\n",
        "        self.id_to_char = {\n",
        "            x[0]:x[1]\n",
        "            for x in enumerate(all_characters)\n",
        "        }\n",
        "        self.size = len(all_characters)\n",
        "\n",
        "    def encode(self, line):\n",
        "        return [self.char_to_id[x] for x in line]\n",
        "    \n",
        "    def decode(self, tokens):\n",
        "        return ' '.join([self.id_to_char[x] for x in tokens])"
      ],
      "execution_count": null,
      "outputs": []
    },
    {
      "cell_type": "code",
      "metadata": {
        "id": "yXHyv3U7JZsd"
      },
      "source": [
        "vocab = Vocabulary(lines)"
      ],
      "execution_count": null,
      "outputs": []
    },
    {
      "cell_type": "code",
      "metadata": {
        "colab": {
          "base_uri": "https://localhost:8080/"
        },
        "id": "_CalltAGJZsd",
        "outputId": "5f1d418e-6b30-4164-a68e-044ee61f14b8"
      },
      "source": [
        "len(lines)"
      ],
      "execution_count": null,
      "outputs": [
        {
          "output_type": "execute_result",
          "data": {
            "text/plain": [
              "39269"
            ]
          },
          "metadata": {},
          "execution_count": 11
        }
      ]
    },
    {
      "cell_type": "code",
      "metadata": {
        "colab": {
          "base_uri": "https://localhost:8080/"
        },
        "id": "CaDhllzmJZse",
        "outputId": "0b348f01-9b92-4122-98b9-36795fa00e5b"
      },
      "source": [
        "len(vocab.char_to_id)"
      ],
      "execution_count": null,
      "outputs": [
        {
          "output_type": "execute_result",
          "data": {
            "text/plain": [
              "33275"
            ]
          },
          "metadata": {},
          "execution_count": 12
        }
      ]
    },
    {
      "cell_type": "code",
      "metadata": {
        "id": "ijIXAnHWJZse"
      },
      "source": [
        "#assert vocab.decode(vocab.encode(lines[0])) == lines[0]"
      ],
      "execution_count": null,
      "outputs": []
    },
    {
      "cell_type": "code",
      "metadata": {
        "id": "JeFGgYVNJZsf"
      },
      "source": [
        "class Quotes(Dataset):\n",
        "    def __init__(self, sentences, vocab):\n",
        "        # Construct vocabulary + EOS & GO tokens\n",
        "        self.sentences = sentences\n",
        "        self.vocab = vocab\n",
        "        self.go = self.vocab.char_to_id['<go>']\n",
        "        self.eos = self.vocab.char_to_id['<eos>']\n",
        "\n",
        "    def __len__(self):\n",
        "        return len(self.sentences)\n",
        "\n",
        "    def __getitem__(self, idx):\n",
        "        tokens = self.vocab.encode(self.sentences[idx])\n",
        "        _input = np.array([self.go]+tokens)\n",
        "        _output = np.array(tokens+[self.eos])\n",
        "        return _input, _output"
      ],
      "execution_count": null,
      "outputs": []
    },
    {
      "cell_type": "code",
      "metadata": {
        "id": "ErPlRNLBJZsf"
      },
      "source": [
        "def compose_batch(batch):\n",
        "    lengths = np.array([len(x[0]) for x in batch])\n",
        "    order = np.argsort(-lengths)\n",
        "    go = torch.zeros(len(batch), lengths[order[0]]).long()\n",
        "    eos = torch.zeros(len(batch), lengths[order[0]]).long()\n",
        "    mask = torch.zeros(len(batch), lengths[order[0]]).long()\n",
        "    for i in range(len(batch)):\n",
        "        current_go, current_eos = batch[i]\n",
        "        go[i, :len(current_go)] = torch.tensor(current_go)\n",
        "        eos[i, :len(current_eos)] = torch.tensor(current_eos)\n",
        "        mask[i, :len(current_go)] = 1\n",
        "    mask = mask[order]\n",
        "    go = go[order]\n",
        "    eos = eos[order]\n",
        "    lengths = lengths[order]\n",
        "    return go, eos, mask, lengths"
      ],
      "execution_count": null,
      "outputs": []
    },
    {
      "cell_type": "code",
      "metadata": {
        "id": "6JMVA7rOJZsg"
      },
      "source": [
        "dataset = Quotes(lines, vocab)"
      ],
      "execution_count": null,
      "outputs": []
    },
    {
      "cell_type": "code",
      "metadata": {
        "id": "EXEMwEObJZsg"
      },
      "source": [
        "dataloader = DataLoader(\n",
        "    dataset, shuffle=True,\n",
        "    batch_size=64,\n",
        "    collate_fn=compose_batch)"
      ],
      "execution_count": null,
      "outputs": []
    },
    {
      "cell_type": "code",
      "metadata": {
        "colab": {
          "base_uri": "https://localhost:8080/"
        },
        "id": "CzKv6DxSJZsh",
        "outputId": "679802af-06cf-4d6b-9e87-ed139b5e56d4"
      },
      "source": [
        "vocab.size"
      ],
      "execution_count": null,
      "outputs": [
        {
          "output_type": "execute_result",
          "data": {
            "text/plain": [
              "33275"
            ]
          },
          "metadata": {},
          "execution_count": 18
        }
      ]
    },
    {
      "cell_type": "markdown",
      "metadata": {
        "id": "pW-L6yMSJZsi"
      },
      "source": [
        "### Часть 2: определение модели"
      ]
    },
    {
      "cell_type": "code",
      "metadata": {
        "id": "n9oOtx5iJZsi"
      },
      "source": [
        "class Oracle(nn.Module):\n",
        "    def __init__(self, vocabulary_size,\n",
        "                 embedding_size=128,\n",
        "                 hidden_size=256,\n",
        "                 layers=2):\n",
        "        super(Oracle, self).__init__()\n",
        "        self.embedding_size = embedding_size\n",
        "        self.layers = layers\n",
        "        self.hidden_size = hidden_size\n",
        "        self.embedding = nn.Embedding(\n",
        "            vocabulary_size, embedding_size\n",
        "        )\n",
        "        self.generator = nn.GRU(\n",
        "            embedding_size, hidden_size,\n",
        "            layers, batch_first=False\n",
        "        )\n",
        "        self.classifier = nn.Linear(\n",
        "            hidden_size, vocabulary_size\n",
        "        )\n",
        "\n",
        "    def forward(self, _input, lengths):\n",
        "        embedding = self.embedding(_input).transpose(0, 1)\n",
        "        embedding = nn.utils.rnn.pack_padded_sequence(\n",
        "            embedding, lengths\n",
        "        )\n",
        "        output, _ = self.generator(embedding)\n",
        "        output, _ = nn.utils.rnn.pad_packed_sequence(output)\n",
        "        classes = self.classifier(output)\n",
        "        return classes\n",
        "\n",
        "    def generate(self, vocab, max_len=100):\n",
        "        h = torch.zeros(self.layers, 1, self.hidden_size)\n",
        "        current_token = '<go>'\n",
        "        line = ''\n",
        "        while (current_token != '<eos>') and \\\n",
        "                len(line) < max_len:\n",
        "            token = torch.tensor([[vocab.char_to_id[current_token]]]).long()\n",
        "            token_id = token.detach()\n",
        "            embedding = self.embedding(token_id)\n",
        "            output, (h) = self.generator(embedding, (h))\n",
        "            classes = self.classifier(output[0])\n",
        "            classes_probs = nn.Softmax()(classes)\n",
        "            sampler = torch.distributions.Categorical(classes_probs[0])\n",
        "            new_token_id = sampler.sample().data.numpy().item()\n",
        "            current_token = vocab.id_to_char[new_token_id]\n",
        "            line = line + \" \" + current_token\n",
        "        return line"
      ],
      "execution_count": null,
      "outputs": []
    },
    {
      "cell_type": "markdown",
      "metadata": {
        "id": "RioUe3TZJZsj"
      },
      "source": [
        "### Часть 3: обучение модели"
      ]
    },
    {
      "cell_type": "code",
      "metadata": {
        "id": "2b8JrkIEJZsj"
      },
      "source": [
        "oracle = Oracle(vocab.size,\n",
        "                embedding_size=32,\n",
        "                hidden_size=64, layers=2)"
      ],
      "execution_count": null,
      "outputs": []
    },
    {
      "cell_type": "code",
      "metadata": {
        "id": "FkmZGlPMJZsk"
      },
      "source": [
        "criterion = nn.CrossEntropyLoss(reduction='none')"
      ],
      "execution_count": null,
      "outputs": []
    },
    {
      "cell_type": "code",
      "metadata": {
        "id": "ksAVQbShJZsj"
      },
      "source": [
        "optimizer = torch.optim.RMSprop(\n",
        "    oracle.parameters(), lr=0.0001, weight_decay=1e-5\n",
        ")"
      ],
      "execution_count": null,
      "outputs": []
    },
    {
      "cell_type": "code",
      "metadata": {
        "id": "pAdLrhRyJZsk"
      },
      "source": [
        "losses = []"
      ],
      "execution_count": null,
      "outputs": []
    },
    {
      "cell_type": "code",
      "metadata": {
        "id": "u8IQajYwJZsk"
      },
      "source": [
        "def moving_average(a, n=20) :\n",
        "    ret = np.cumsum(a, dtype=float)\n",
        "    ret[n:] = ret[n:] - ret[:-n]\n",
        "    return ret[n - 1:] / n"
      ],
      "execution_count": null,
      "outputs": []
    },
    {
      "cell_type": "code",
      "metadata": {
        "colab": {
          "base_uri": "https://localhost:8080/"
        },
        "id": "1NT9JfYAKT24",
        "outputId": "e32999f9-f593-4e55-cc77-279acc9e65ad"
      },
      "source": [
        "oracle.cuda()"
      ],
      "execution_count": null,
      "outputs": [
        {
          "output_type": "execute_result",
          "data": {
            "text/plain": [
              "Oracle(\n",
              "  (embedding): Embedding(33275, 32)\n",
              "  (generator): GRU(32, 64, num_layers=2)\n",
              "  (classifier): Linear(in_features=64, out_features=33275, bias=True)\n",
              ")"
            ]
          },
          "metadata": {},
          "execution_count": 25
        }
      ]
    },
    {
      "cell_type": "code",
      "metadata": {
        "scrolled": false,
        "colab": {
          "base_uri": "https://localhost:8080/",
          "height": 281,
          "referenced_widgets": [
            "23b8c448309e4583adda9a2ea229730a",
            "690827b2bcf54845a75636245039e03b",
            "eabc8adc5da9482fb00821de1da80853",
            "02040373c0c343ef89564261f6f55df8",
            "958c126125dc4f32a9cea50416fffb01",
            "193abefec45b43bbae97f381d3b2d12f",
            "83a76dbb72584969b8e574a4d17ced27",
            "dff71486249740c7844c122c57d8a0a8",
            "50e49b8070d04d24a7cd266b4baa787e",
            "8d0c56f249c840a19dbc3feea5b10147",
            "347268737aff4f649c60976d5ea5259b",
            "b5f793c1d8554ee0a30d7b7e03e3bbe6",
            "c30327f45b7342e690613d7090c27514",
            "3bf1392b7ec6441e9e33831c356a2583",
            "7d4d00594c5341ab9440f8dfb7aea768",
            "8f73ecb7332a492eb9d1a08283cb87df",
            "ace0b617ba334d82a87c0b326a4c7bb7",
            "06f85667d88d446a8189aa4241ac7a9c",
            "78a102655bb14a56b5da038e3418b951",
            "10869b7c725446f3866a8e308be7ee20",
            "864e6c19b22741d0bc412e19e81ad246",
            "a7f109e08332408196feae4f84b9cf4a",
            "f806fa8ce37b42fbb5a520baa4903abe",
            "1a29313b4f494756a99dbbec54226864",
            "51fcf1f4ee5a4bd5bb1a7ec6cf944a5a",
            "e80fd8a604fa4b3789ccfe749ea72653",
            "ab04542d5102445a809a06ba48025507",
            "fc97e03ba17d47c2ade32b051336ee98",
            "313bae1d1052492b97897c01a0243ff1",
            "a7eba146b76f45f697fc2f17507653d1",
            "3bbe0cfc12c041c1bb67a19cc511181a",
            "58c4f8acca6a4bb6a9f137636a7580bd",
            "6f4b515bd99a4b67a9f4cf0f1ecb4246"
          ]
        },
        "id": "1X2ro8PAJZsl",
        "outputId": "c8c8fdfc-a3d4-4d67-a280-25832a3d9b77"
      },
      "source": [
        "for epoch in range(3):\n",
        "    bar = progressbar.ProgressBar()\n",
        "    for i, batch in enumerate(tqdm(dataloader, total=len(dataloader))):\n",
        "        go, eos, mask, length = batch\n",
        "        go, eos, mask = map(lambda x: x.cuda(), (go, eos, mask))\n",
        "        oracle.zero_grad()\n",
        "        prediction = oracle(go, length).transpose(0, 1).transpose(1, 2)\n",
        "        loss = (criterion(prediction, eos)*mask.float()).sum()\n",
        "        loss = loss / mask.sum()\n",
        "        loss.backward()\n",
        "        [x.grad.clamp_(-1, 1) for x in oracle.parameters()]\n",
        "        optimizer.step()\n",
        "        losses.append(np.exp(loss.item()))\n",
        "        if i % 50 == 0:\n",
        "            clear_output(True)\n",
        "            plt.plot(losses, label='Train')\n",
        "            plt.plot(moving_average(losses), label='MA@20')\n",
        "            plt.xlabel('iteration')\n",
        "            plt.ylabel('perplexity')\n",
        "            plt.legend()\n",
        "            plt.grid()\n",
        "            plt.show()"
      ],
      "execution_count": null,
      "outputs": [
        {
          "output_type": "display_data",
          "data": {
            "image/png": "[encoded data removed]",
            "text/plain": [
              "<Figure size 432x288 with 1 Axes>"
            ]
          },
          "metadata": {
            "needs_background": "light"
          }
        }
      ]
    },
    {
      "cell_type": "markdown",
      "metadata": {
        "id": "EoTPxh-IJZsl"
      },
      "source": [
        "### Часть 4: оценивание модели"
      ]
    },
    {
      "cell_type": "markdown",
      "metadata": {
        "id": "xspGgpKYJZsm"
      },
      "source": [
        "<i> Приведите примеры сгенерированных предложений </i>"
      ]
    },
    {
      "cell_type": "code",
      "metadata": {
        "colab": {
          "base_uri": "https://localhost:8080/"
        },
        "id": "YNjczOn7JZsm",
        "outputId": "73a467e2-190f-40cd-f3e2-4e8f74870edc"
      },
      "source": [
        "oracle.cpu()\n",
        "for _ in range(10):\n",
        "    print(oracle.generate(vocab))"
      ],
      "execution_count": null,
      "outputs": [
        {
          "output_type": "stream",
          "name": "stdout",
          "text": [
            " they have from things more deterrence to mc this time to is invest scientist the accuses hope but you\n",
            " two appeals leave was romantic drive and mediocrity <eos>\n",
            " <eos>\n",
            " i where good my <eos>\n",
            " it <eos>\n",
            " press i a attention of are notes streets that office reason as makes as any and of reputation motivating\n",
            " rack jam - suspended a of have and of amongst is grateful ago if any to believe the i guys seem myself\n",
            " very human have not of <eos>\n",
            " don't rest carefully case the day dividend dead <eos>\n",
            " in <eos>\n"
          ]
        },
        {
          "output_type": "stream",
          "name": "stderr",
          "text": [
            "/usr/local/lib/python3.7/dist-packages/ipykernel_launcher.py:41: UserWarning: Implicit dimension choice for softmax has been deprecated. Change the call to include dim=X as an argument.\n"
          ]
        }
      ]
    },
    {
      "cell_type": "markdown",
      "metadata": {
        "id": "2UGeYSn5JZsm"
      },
      "source": [
        "## HW 1 (3 балла)\n",
        "1. Обучить сеть с LSTM вместо GRU\n",
        "2. Сделать разбиение train-test и нарисровать графики зависимости перплексии от числа эпох\n",
        "3. Подобрать гиперпараметры, добиться лучшей перплексии чем с параметрами по умолчанию"
      ]
    },
    {
      "cell_type": "code",
      "metadata": {
        "id": "jX_hGIoGJZsn"
      },
      "source": [
        "class OracleLSTM(nn.Module):\n",
        "    def __init__(self, vocabulary_size, embedding_size=128, hidden_size=256, layers=2):\n",
        "        super(OracleLSTM, self).__init__()\n",
        "        self.embedding_size = embedding_size\n",
        "        self.layers = layers\n",
        "        self.hidden_size = hidden_size\n",
        "        self.embedding = nn.Embedding(vocabulary_size, embedding_size)\n",
        "        self.generator = nn.LSTM(embedding_size, hidden_size, layers, batch_first=False)\n",
        "        self.classifier = nn.Linear(hidden_size, vocabulary_size)\n",
        "\n",
        "    def forward(self, _input, lengths):\n",
        "        embedding = self.embedding(_input).transpose(0, 1)\n",
        "        embedding = nn.utils.rnn.pack_padded_sequence(embedding, lengths)\n",
        "        output, _ = self.generator(embedding)\n",
        "        output = nn.utils.rnn.pad_packed_sequence(output)\n",
        "        classes = self.classifier(output[0])\n",
        "        return classes\n",
        "\n",
        "    def generate(self, vocab, max_len=100):\n",
        "        h = (Variable(torch.zeros(self.layers, 1, self.hidden_size)),\n",
        "             Variable(torch.zeros(self.layers, 1, self.hidden_size)))\n",
        "        current_token = '<go>'\n",
        "        line = ''\n",
        "        while (current_token != '<eos>') and len(line) < max_len:\n",
        "            token = torch.Tensor([[vocab.char_to_id[current_token]]]).long()\n",
        "            token_id = Variable(token, volatile=True)\n",
        "            embedding = self.embedding(token_id)\n",
        "            output, (h) = self.generator(embedding, (h))\n",
        "            classes = self.classifier(output[0])\n",
        "            classes_probs = nn.Softmax()(classes)\n",
        "            sampler = torch.distributions.Categorical(classes_probs[0])\n",
        "            new_token_id = sampler.sample().data.numpy().item()\n",
        "            current_token = vocab.id_to_char[new_token_id]\n",
        "            line = line + current_token\n",
        "        return line"
      ],
      "execution_count": null,
      "outputs": []
    },
    {
      "cell_type": "code",
      "metadata": {
        "id": "suhXqR-IULgC"
      },
      "source": [
        "lines = [\n",
        "    x.split('\\t')[1].strip().replace(\".\", \"\").replace(\",\", \"\").replace(\":\", \"\").\\\n",
        "    replace(\"\\\"\", \"\").replace(\";\", \"\").replace(\"!\", \"\").replace(\"#\", \"\").lower() \n",
        "    for x in open('author-quote.txt').readlines()\n",
        "]\n",
        "vocab = Vocabulary(lines)\n"
      ],
      "execution_count": null,
      "outputs": []
    },
    {
      "cell_type": "code",
      "metadata": {
        "id": "-hLgKS8QMk8u"
      },
      "source": [
        "oracle = OracleLSTM(vocab.size, embedding_size=32, hidden_size=64, layers=2)\n",
        "oracle.cuda()\n",
        "optimizer = torch.optim.Adam(oracle.parameters(), lr=0.001, weight_decay=1e-5)\n",
        "criterion = nn.CrossEntropyLoss(reduction='none')\n",
        "train_losses = []\n",
        "test_losses = []"
      ],
      "execution_count": null,
      "outputs": []
    },
    {
      "cell_type": "code",
      "metadata": {
        "id": "Pd_ATv86Mk_T"
      },
      "source": [
        "train_size = int(len(lines) * 0.75)\n",
        "test_size = len(lines) - train_size\n",
        "\n",
        "train_dataset = Quotes(lines[:train_size], vocab)\n",
        "test_dataset = Quotes(lines[train_size:], vocab)\n",
        "\n",
        "train_dataloader = DataLoader(train_dataset, shuffle=True, batch_size=64, collate_fn=compose_batch)\n",
        "test_dataloader = DataLoader(test_dataset, shuffle=True, batch_size=64, collate_fn=compose_batch)"
      ],
      "execution_count": null,
      "outputs": []
    },
    {
      "cell_type": "code",
      "metadata": {
        "colab": {
          "base_uri": "https://localhost:8080/",
          "height": 334,
          "referenced_widgets": [
            "f801bdf1c51345e6bf0eb907ff260608",
            "3666d79ab6044d8b9282051d4de9b3f8",
            "b859c58e1e8e4a37bd131c254eba044e",
            "babd4c72e7af4df6b3d0e6c5b64e5700",
            "802694272fd44a4ab42ce35d5baa1f3e",
            "8f2c6258121f4e5b854acb8c0207f823",
            "6fa7498f788f4e04949b3f14e99bf9e8",
            "b710ccc5c49b4280b8fd34d2ca8efc75",
            "03c45e16592e4b869d4ef647bd2b906e",
            "9df29ccb279f412fa3ae2d1edd844821",
            "5ce983442d03472ebeb27f3be87b45be",
            "795ab3681d0648219da2b1f732ddf4f5",
            "b876928cc56346618966b6891b78ee4e",
            "b4f451ff033246a5ade525abce08554d",
            "8bd5c09f8c484ada997247e161ec6e35",
            "31a4f1a70b2d446e85f08a2b02d5e371",
            "9e1ebb7436264b50b6a4c0f64ba94cba",
            "717bcc3f741a4784b7da50e0b47bc4a3",
            "68c55c50680d40e7b65b33fd45311b8c",
            "a3510a0d1bc54c768c9d01f803e3c2c6",
            "edb3cc841b0047ff890f22fccd952cf6",
            "783867161c4341e9b1c0c9572fa175af",
            "ad91c63ecaf6441195760c6b3798f915",
            "3f15d7b3cf024440a0113a5bbea28218",
            "3690f54808c74148996a693049f60b5d",
            "d1a23d21cf6a4ea687c86263f8e55a1f",
            "b3f2af878365425489a65be715ddceaf",
            "9aa7a4dc98964720b2b8dbe34fc93f70",
            "eeb2e50abdeb496e91c492e854cff5b3",
            "4ddd0a7f36e4460eb241a4abe9075b38",
            "e30ae4526f59493ea09338af98ce556f",
            "b3e7c6a29aec42e5a6a0c12f95f5e450",
            "6d195bbccc724a638856b4a67d18bd74",
            "b7742a98f04f4344ae4ca337927fb7cf",
            "bdadc16463c54b4f82f1c66f62121b88",
            "9eca1108f27a41eeaec641722854ac53",
            "153c5fd4bbd24ac88fce2c8011659bfa",
            "1443108a8ce44ca9bb4b08cf1fcdae27",
            "0e507a9b0ffc4ac2af4efce6edd5bdcb",
            "1d1d96820da743eb9bc65bcb84858bf6",
            "12352992bc854bc79773accaa4ace512",
            "41826ce10e5942f99f6c2ceb693bbb9b",
            "463b6bdc67ad430392c5ad9be389bcb7",
            "aec12215e87f43d49a8cf67c28e22789"
          ]
        },
        "id": "qZGrx-LaWh6k",
        "outputId": "6348e96f-1f4e-4995-8666-6a9c6d1011f6"
      },
      "source": [
        "for epoch in range(2):\n",
        "    bar = progressbar.ProgressBar()\n",
        "    for i, batch in enumerate(tqdm(train_dataloader, total = len(train_dataloader))):\n",
        "        oracle.zero_grad()\n",
        "        go, eos, mask, length = batch\n",
        "        go, eos, mask = map(lambda x: x.cuda(), (go, eos, mask))\n",
        "        oracle.zero_grad()\n",
        "        prediction = oracle(go, length).transpose(0, 1).transpose(1, 2)\n",
        "        train_loss = (criterion(prediction, eos) * mask.float()).mean()\n",
        "        train_loss.backward()    return nullptr;\n",
        "\n",
        "        [x.grad.clamp_(-1, 1) for x in oracle.parameters()]\n",
        "        optimizer.step()\n",
        "        train_losses.append(np.exp(train_loss.item()))\n",
        "    for i, batch in enumerate(tqdm(test_dataloader, total = len(test_dataloader))):\n",
        "        oracle.zero_grad()\n",
        "        go, eos, mask, length = batch\n",
        "        go, eos, mask = map(lambda x: x.cuda(), (go, eos, mask))\n",
        "        prediction = oracle(go, length).transpose(0, 1).transpose(1, 2)\n",
        "        test_loss = (criterion(prediction, eos) * mask.float()).mean()\n",
        "        test_losses.append(np.exp(test_loss.item()))\n",
        "        \n",
        "    clear_output(True)\n",
        "    plt.figure(figsize=(12, 5))\n",
        "    plt.subplot(1, 2, 1)\n",
        "    plt.plot(train_losses, label='Train')\n",
        "    plt.plot(moving_average(train_losses), label='MA@20')\n",
        "    plt.xlabel('iteration')\n",
        "    plt.ylabel('perplexity')\n",
        "    plt.legend()\n",
        "    plt.grid()\n",
        "    plt.subplot(1, 2, 2)\n",
        "    plt.plot(test_losses, label='Test')\n",
        "    plt.plot(moving_average(test_losses), label='MA@20')\n",
        "    plt.xlabel('iteration')\n",
        "    plt.ylabel('perplexity')\n",
        "    plt.legend()\n",
        "    plt.grid()\n",
        "    plt.show()\n"
      ],
      "execution_count": null,
      "outputs": [
        {
          "output_type": "display_data",
          "data": {
            "image/png": "[encoded data removed]",
            "text/plain": [
              "<Figure size 864x360 with 2 Axes>"
            ]
          },
          "metadata": {
            "needs_background": "light"
          }
        }
      ]
    },
    {
      "cell_type": "code",
      "metadata": {
        "colab": {
          "base_uri": "https://localhost:8080/"
        },
        "id": "Upo8nfTTWmuW",
        "outputId": "012f4694-a3ed-449b-951e-b1362823f7ae"
      },
      "source": [
        "oracle.cpu()\n",
        "for i in range(10):\n",
        "    print(oracle.generate(vocab))"
      ],
      "execution_count": null,
      "outputs": [
        {
          "output_type": "stream",
          "name": "stderr",
          "text": [
            "/usr/local/lib/python3.7/dist-packages/ipykernel_launcher.py:26: UserWarning: volatile was removed and now has no effect. Use `with torch.no_grad():` instead.\n",
            "/usr/local/lib/python3.7/dist-packages/ipykernel_launcher.py:30: UserWarning: Implicit dimension choice for softmax has been deprecated. Change the call to include dim=X as an argument.\n"
          ]
        },
        {
          "output_type": "stream",
          "name": "stdout",
          "text": [
            "otelf my theing for antace peiden twher being coverisitys tring indiolrs the caulabpes whof be bespo\n",
            "i'n sarded whome laly gaty umantraty so the when disguol afun coded who alhs in and intent the walbi\n",
            "i<eos>\n",
            "hover inwate<eos>\n",
            "bby the whishmrean to jind are to hexreeds worshing sanep to guavhth in thing way no i oan tirked i \n",
            "guthing sorour anss uncant 9ake thy we as fliated ut pured rythat of lives yife fon eanekitieks in w\n",
            "ditgis is coasn the sto phaytheoly for pomstardtu1eynart to deked bosaas the pleaft a ond wimen't me\n",
            "soset a copfite who nit hias it iritery and the uty<eos>\n",
            "i plealr<eos>\n",
            "a natectes i dove corparce an ipnatiound everaly sople and haple at if to suling gopell bety wammera\n"
          ]
        }
      ]
    },
    {
      "cell_type": "markdown",
      "metadata": {
        "id": "1U5JUYxMpR50"
      },
      "source": [
        " #### Подбор гиперпараметров\n",
        "\n"
      ]
    },
    {
      "cell_type": "code",
      "metadata": {
        "id": "3G0KnBrxJMvE"
      },
      "source": [
        "grid_losses = []\n",
        "final_model = None"
      ],
      "execution_count": null,
      "outputs": []
    },
    {
      "cell_type": "code",
      "metadata": {
        "id": "EtYBFy-2qyxn"
      },
      "source": [
        "dataloader = DataLoader(Quotes(lines, vocab), shuffle=True, batch_size=64, collate_fn=compose_batch)\n"
      ],
      "execution_count": null,
      "outputs": []
    },
    {
      "cell_type": "code",
      "metadata": {
        "id": "dq44SdQnrqrk"
      },
      "source": [
        "params = product([32, 64, 128], [32, 64, 128], )"
      ],
      "execution_count": null,
      "outputs": []
    },
    {
      "cell_type": "code",
      "metadata": {
        "colab": {
          "base_uri": "https://localhost:8080/",
          "height": 311,
          "referenced_widgets": [
            "ca97056e5ece4fc2935df36d4b57c03d",
            "f6be721f5292429abf69469f9ef2a47c",
            "c7715fb9a31f4939b96c6ce6d66febb0",
            "eea4b93977014b9799b4c0ffdf79b37f",
            "ca4453d00a244f9a9fa4e9125ec54082",
            "42c37432c2da4427bcf2572948377b57",
            "a60756fc59a0441a8a3ba37f0d5b5ad6",
            "14480fff763c48fdbee8d57951942e6b",
            "dfe356de2a5748c69860e6ec426be5bc",
            "fc7d0b266d0540708405ab9352e7f31b",
            "5fe87805abe443e19abfbb5465ab9bec"
          ]
        },
        "id": "0K0eCt0QpbfB",
        "outputId": "7997372f-d62d-486c-b81f-1f34f70d4ee1"
      },
      "source": [
        "for embedding_size, hidden_size in tqdm(list(params)):\n",
        "    print(params)\n",
        "    oracle = OracleLSTM(vocab.size, embedding_size=embedding_size,\n",
        "                             hidden_size=hidden_size, layers=2)\n",
        "    oracle.cuda()\n",
        "    optimizer = torch.optim.Adam(oracle.parameters(), lr=0.001, weight_decay=1e-5)\n",
        "    criterion = nn.CrossEntropyLoss(reduction='none')\n",
        "    losses = []\n",
        "    for epoch in range(2):\n",
        "        bar = progressbar.ProgressBar()\n",
        "        for i, batch in enumerate(tqdm(dataloader, total = len(dataloader))):\n",
        "            oracle.zero_grad()\n",
        "            go, eos, mask, length = batch\n",
        "            go, eos, mask = map(lambda x: x.cuda(), (go, eos, mask))\n",
        "            oracle.zero_grad()\n",
        "            prediction = oracle(go, length).transpose(0, 1).transpose(1, 2)\n",
        "            loss = (criterion(prediction, eos) * mask.float()).mean()\n",
        "            loss.backward()\n",
        "            [x.grad.clamp_(-1, 1) for x in oracle.parameters()]\n",
        "            optimizer.step()\n",
        "            losses.append(np.exp(loss.item()))\n",
        "    if loss < min_loss:\n",
        "        min_loss = loss\n",
        "        grid_losses = losses\n",
        "        final_model = oracle\n",
        "plt.plot(grid_losses, label='Train')\n",
        "plt.plot(moving_average(grid_losses), label='MA@20')\n",
        "plt.xlabel('iteration')\n",
        "plt.ylabel('perplexity')\n",
        "plt.legend()\n",
        "plt.grid()\n",
        "plt.show()"
      ],
      "execution_count": null,
      "outputs": [
        {
          "output_type": "display_data",
          "data": {
            "application/vnd.jupyter.widget-view+json": {
              "model_id": "ca97056e5ece4fc2935df36d4b57c03d",
              "version_minor": 0,
              "version_major": 2
            },
            "text/plain": [
              "0it [00:00, ?it/s]"
            ]
          },
          "metadata": {}
        },
        {
          "output_type": "display_data",
          "data": {
            "image/png": "[encoded data removed]",
            "text/plain": [
              "<Figure size 432x288 with 1 Axes>"
            ]
          },
          "metadata": {
            "needs_background": "light"
          }
        }
      ]
    },
    {
      "cell_type": "code",
      "metadata": {
        "colab": {
          "base_uri": "https://localhost:8080/"
        },
        "id": "wcbSR6ME0DBC",
        "outputId": "6390d637-89f5-4228-e78b-d42cc57e8873"
      },
      "source": [
        "final_model, min_loss\n"
      ],
      "execution_count": null,
      "outputs": [
        {
          "output_type": "execute_result",
          "data": {
            "text/plain": [
              "(OracleLSTM(\n",
              "   (embedding): Embedding(67, 64)\n",
              "   (generator): LSTM(64, 64, num_layers=2)\n",
              "   (classifier): Linear(in_features=64, out_features=67, bias=True)\n",
              " ), tensor(0.5966, device='cuda:0', grad_fn=<MeanBackward0>))"
            ]
          },
          "metadata": {},
          "execution_count": 54
        }
      ]
    },
    {
      "cell_type": "code",
      "metadata": {
        "colab": {
          "base_uri": "https://localhost:8080/"
        },
        "id": "MdfBf2D70Fno",
        "outputId": "1a2d89b7-b810-4718-f996-600b4313ab5f"
      },
      "source": [
        "oracle.cpu()\n",
        "for i in range(10):\n",
        "    print(oracle.generate(vocab))"
      ],
      "execution_count": null,
      "outputs": [
        {
          "output_type": "stream",
          "name": "stderr",
          "text": [
            "/usr/local/lib/python3.7/dist-packages/ipykernel_launcher.py:26: UserWarning: volatile was removed and now has no effect. Use `with torch.no_grad():` instead.\n",
            "/usr/local/lib/python3.7/dist-packages/ipykernel_launcher.py:30: UserWarning: Implicit dimension choice for softmax has been deprecated. Change the call to include dim=X as an argument.\n"
          ]
        },
        {
          "output_type": "stream",
          "name": "stdout",
          "text": [
            "the cloact a art dyster because edound just don't heart the will seartize give out more somening nos\n",
            "them we be old that when i was to but is being other told the mint but life that zalling stufeds of \n",
            "colucking loakes kind underscares and himb to the among£s perms<eos>\n",
            "i'm fould that that will be poligions with in love and the scambosc for palisary and always not fift\n",
            "if i rememps undowlence when you computely?' of of along<eos>\n",
            "in the shisbigs awally<eos>\n",
            "the hassey<eos>\n",
            "me road for a lmand who can't so only if foolled to the tood of age scholicy ivually time by cannot \n",
            "i was because forgy you have compettelly momonally the sovernyacm at that i don't ormogh<eos>\n",
            "the stu midmati haman the person and ros and its and the used ever a nawn't depulce's bast' that his\n"
          ]
        }
      ]
    },
    {
      "cell_type": "markdown",
      "metadata": {
        "id": "5740dBYuJZsn"
      },
      "source": [
        "#### Feedback (опционально)"
      ]
    },
    {
      "cell_type": "markdown",
      "metadata": {
        "id": "Qq9VM1lgJZsn"
      },
      "source": [
        "Здесь вы можете оставить список опечаток из лекции или семинара:"
      ]
    },
    {
      "cell_type": "markdown",
      "metadata": {
        "id": "SNbO9m6TJZsn"
      },
      "source": [
        "Здесь вы можете оставить комментарии по лекции или семинару:"
      ]
    }
  ]
}